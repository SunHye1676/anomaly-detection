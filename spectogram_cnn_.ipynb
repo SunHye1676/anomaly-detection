{
  "nbformat": 4,
  "nbformat_minor": 0,
  "metadata": {
    "colab": {
      "provenance": [],
      "gpuType": "T4"
    },
    "kernelspec": {
      "name": "python3",
      "display_name": "Python 3"
    },
    "language_info": {
      "name": "python"
    },
    "accelerator": "GPU"
  },
  "cells": [
    {
      "cell_type": "code",
      "execution_count": null,
      "metadata": {
        "colab": {
          "base_uri": "https://localhost:8080/"
        },
        "id": "26Okihr5wqk-",
        "outputId": "59279eae-e426-4db5-be40-398f62da41bc"
      },
      "outputs": [
        {
          "output_type": "stream",
          "name": "stdout",
          "text": [
            "Mounted at /content/drive\n"
          ]
        }
      ],
      "source": [
        "from google.colab import drive\n",
        "drive.mount('/content/drive',force_remount=True)"
      ]
    },
    {
      "cell_type": "code",
      "source": [
        "import torch\n",
        "\n",
        "# CUDA(GPU) 사용 가능 여부 확인\n",
        "if torch.cuda.is_available():\n",
        "    device = torch.device(\"cuda\")\n",
        "    print(\"GPU is available\")\n",
        "else:\n",
        "    device = torch.device(\"cpu\")\n",
        "    print(\"GPU not available, using CPU\")"
      ],
      "metadata": {
        "colab": {
          "base_uri": "https://localhost:8080/"
        },
        "id": "XjLLgXNNw69L",
        "outputId": "cf9bf69a-c36f-4016-e6fc-226b616e8631"
      },
      "execution_count": null,
      "outputs": [
        {
          "output_type": "stream",
          "name": "stdout",
          "text": [
            "GPU is available\n"
          ]
        }
      ]
    },
    {
      "cell_type": "code",
      "source": [
        "import os\n",
        "import librosa\n",
        "import matplotlib.pyplot as plt\n",
        "import librosa.display\n",
        "import numpy as np\n",
        "import random"
      ],
      "metadata": {
        "id": "S-MTHp5cw7A2"
      },
      "execution_count": null,
      "outputs": []
    },
    {
      "cell_type": "code",
      "source": [
        "import torch\n",
        "import torch.nn as nn\n",
        "import torch.optim as optim\n",
        "import torch.nn.functional as F\n",
        "from torch.utils.data import Dataset, DataLoader\n",
        "from sklearn.model_selection import train_test_split"
      ],
      "metadata": {
        "id": "1mr6bTp48P50"
      },
      "execution_count": null,
      "outputs": []
    },
    {
      "cell_type": "code",
      "source": [
        "import os\n",
        "\n",
        "train_data_path = '/content/drive/MyDrive/Capstone_Project/DCASE_challenge/fan/train'\n",
        "test_data_path = '/content/drive/MyDrive/Capstone_Project/DCASE_challenge/fan/train'\n",
        "machine_ids = ['machine_id_00', 'machine_id_02', 'machine_id_04', 'machine_id_06']\n",
        "\n",
        "# 훈련 데이터와 테스트 데이터 파일 경로 수집\n",
        "for machine_id in machine_ids:\n",
        "    # 훈련 데이터 경로\n",
        "    train_dir = os.path.join(train_data_path, machine_id, 'train')\n",
        "    train_files = [os.path.join(train_dir, file) for file in os.listdir(train_dir) if os.path.isfile(os.path.join(train_dir, file))]\n",
        "\n",
        "    # 테스트 데이터 경로\n",
        "    test_dir = os.path.join(test_data_path, machine_id, 'test')\n",
        "    test_files = [os.path.join(test_dir, file) for file in os.listdir(test_dir) if os.path.isfile(os.path.join(test_dir, file))]\n",
        "\n",
        "    # 이후 데이터 처리...\n"
      ],
      "metadata": {
        "id": "ikwWKk_UxJGP"
      },
      "execution_count": null,
      "outputs": []
    },
    {
      "cell_type": "code",
      "source": [
        "import os\n",
        "\n",
        "train_data_path = '/content/drive/MyDrive/Capstone_Project/DCASE_challenge/fan/train'\n",
        "machine_ids = ['machine_id_00', 'machine_id_02', 'machine_id_04', 'machine_id_06']\n",
        "\n",
        "for machine_id in machine_ids:\n",
        "    train_dir = os.path.join(train_data_path, machine_id, 'train')\n",
        "\n",
        "    if not os.path.exists(train_dir):\n",
        "        print(f\"디렉토리가 존재하지 않습니다: {train_dir}\")\n",
        "        continue\n",
        "\n",
        "    train_files = [os.path.join(train_dir, file) for file in os.listdir(train_dir) if os.path.isfile(os.path.join(train_dir, file))]\n"
      ],
      "metadata": {
        "id": "x5dRUJ0oF07x"
      },
      "execution_count": null,
      "outputs": []
    },
    {
      "cell_type": "code",
      "source": [
        "class AudioDataset(Dataset):\n",
        "    def __init__(self, file_paths, min_val=None, max_val=None, alpha=1.0):\n",
        "        self.file_paths = file_paths\n",
        "        self.min_val = min_val\n",
        "        self.max_val = max_val\n",
        "        self.alpha = alpha\n",
        "\n",
        "        # min_val과 max_val이 제공되지 않았을 경우, 전체 데이터셋에서 계산하도록 구현할 수 있습니다.\n",
        "        if self.min_val is None or self.max_val is None:\n",
        "            self.min_val, self.max_val = self.calculate_min_max_values()\n",
        "\n",
        "    def __len__(self):\n",
        "        return len(self.file_paths)\n",
        "\n",
        "    def calculate_min_max_values(self):\n",
        "        # 스펙트로그램의 최소값과 최대값을 계산합니다.\n",
        "        all_values = []\n",
        "        for file_path in self.file_paths:\n",
        "            y, sr = librosa.load(file_path, sr=None)\n",
        "            S = librosa.feature.melspectrogram(y=y, sr=sr, n_mels=128)\n",
        "            log_S = librosa.power_to_db(S, ref=np.max)\n",
        "            all_values.append(log_S.flatten())\n",
        "\n",
        "        all_values = np.concatenate(all_values)\n",
        "        min_val = all_values.min()\n",
        "        max_val = all_values.max()\n",
        "        return min_val, max_val\n",
        "\n",
        "    def __getitem__(self, idx):\n",
        "      # 첫 번째 오디오 파일 로드 및 처리\n",
        "      file_path1 = self.file_paths[idx]\n",
        "      x1 = self.process_file(file_path1)\n",
        "\n",
        "      # 두 번째 오디오 파일 로드 및 처리 (데이터 증강을 위한 mixup)\n",
        "      file_path2 = np.random.choice(self.file_paths)\n",
        "      x2 = self.process_file(file_path2)\n",
        "\n",
        "      # mixup 파라미터 생성\n",
        "      lam = np.random.beta(self.alpha, self.alpha) if self.alpha > 0 else 1\n",
        "\n",
        "      # 두 오디오 파일의 스펙트로그램을 섞음\n",
        "      mixed_x = lam * x1 + (1 - lam) * x2\n",
        "      return mixed_x\n",
        "\n",
        "\n",
        "    def process_file(self, file_path):\n",
        "        # 오디오 파일 로드 및 스펙트로그램 생성\n",
        "        y, sr = librosa.load(file_path, sr=None)\n",
        "        S = librosa.feature.melspectrogram(y=y, sr=sr, n_mels=128)\n",
        "        log_S = librosa.power_to_db(S, ref=np.max)\n",
        "\n",
        "        # 정규화\n",
        "        normalized_log_S = (log_S - self.min_val) / (self.max_val - self.min_val)\n",
        "\n",
        "        # PyTorch Tensor로 변환\n",
        "        normalized_log_S_tensor = torch.tensor(normalized_log_S, dtype=torch.float32)\n",
        "        return normalized_log_S_tensor\n"
      ],
      "metadata": {
        "id": "lVTWd4ReICLU"
      },
      "execution_count": null,
      "outputs": []
    },
    {
      "cell_type": "code",
      "source": [
        "\n",
        "\n",
        "# 조기 종료\n",
        "class EarlyStopping:\n",
        "    def __init__(self, patience=15, verbose=False, delta=0):\n",
        "        self.patience = patience\n",
        "        self.verbose = verbose\n",
        "        self.delta = delta\n",
        "        self.best_score = None\n",
        "        self.early_stop = False\n",
        "        self.counter = 0\n",
        "        self.val_loss_min = float('inf')\n",
        "\n",
        "    def __call__(self, val_loss, model):\n",
        "        score = -val_loss\n",
        "\n",
        "        if self.best_score is None:\n",
        "            self.best_score = score\n",
        "            self.save_checkpoint(val_loss, model)\n",
        "        elif score < self.best_score + self.delta:\n",
        "            self.counter += 1\n",
        "            if self.verbose:\n",
        "                print(f'EarlyStopping counter: {self.counter} out of {self.patience}')\n",
        "            if self.counter >= self.patience:\n",
        "                self.early_stop = True\n",
        "        else:\n",
        "            self.best_score = score\n",
        "            self.save_checkpoint(val_loss, model)\n",
        "            self.counter = 0\n",
        "\n",
        "    def save_checkpoint(self, val_loss, model):\n",
        "        '''Saves model when validation loss decrease.'''\n",
        "        if self.verbose:\n",
        "            print(f'Validation loss decreased ({self.val_loss_min:.6f} --> {val_loss:.6f}).  Saving model ...')\n",
        "        torch.save(model.state_dict(), 'checkpoint.pt')\n",
        "        self.val_loss_min = val_loss"
      ],
      "metadata": {
        "id": "MLLapUFo1t4I"
      },
      "execution_count": null,
      "outputs": []
    },
    {
      "cell_type": "code",
      "source": [
        "import os\n",
        "from sklearn.model_selection import train_test_split\n",
        "\n",
        "# 각 machine_id별로 처리\n",
        "for machine_id in machine_ids:\n",
        "    train_dir = os.path.join(train_data_path, machine_id, 'train')\n",
        "\n",
        "    # 해당 machine_id의 train 디렉토리 존재 여부 확인\n",
        "    if not os.path.exists(train_dir):\n",
        "        print(f\"경고: '{train_dir}' 디렉토리가 존재하지 않습니다.\")\n",
        "        continue\n",
        "\n",
        "    # 해당 machine_id의 train 파일 경로 수집\n",
        "    try:\n",
        "        train_files = [os.path.join(train_dir, file) for file in os.listdir(train_dir)]\n",
        "    except FileNotFoundError:\n",
        "        print(f\"경고: '{train_dir}'에서 파일을 찾을 수 없습니다.\")\n",
        "        continue\n",
        "\n",
        "    # 해당 machine_id의 train 데이터셋에서 min_val과 max_val 계산\n",
        "    temp_dataset = AudioDataset(train_files)\n",
        "    min_val, max_val = temp_dataset.calculate_min_max_values()\n",
        "\n",
        "    # 데이터셋 분할\n",
        "    train_files, val_files = train_test_split(train_files, test_size=0.2, random_state=2023)\n",
        "\n",
        "    # 데이터셋 인스턴스 생성\n",
        "    train_dataset = AudioDataset(train_files, min_val, max_val)\n",
        "    val_dataset = AudioDataset(val_files, min_val, max_val)\n",
        "\n",
        "    # DataLoader 인스턴스 생성\n",
        "    train_loader = DataLoader(train_dataset, batch_size=4, shuffle=True)\n",
        "    val_loader = DataLoader(val_dataset, batch_size=4, shuffle=False)\n"
      ],
      "metadata": {
        "id": "VIuperA8xJJJ"
      },
      "execution_count": null,
      "outputs": []
    },
    {
      "cell_type": "code",
      "source": [
        "class Autoencoder(nn.Module):\n",
        "    def __init__(self, dropout_prob=0.3):\n",
        "        super(Autoencoder, self).__init__()\n",
        "        # 인코더\n",
        "        self.encoder = nn.Sequential(\n",
        "            nn.Conv2d(1, 16, kernel_size=3, stride=1, padding=1),\n",
        "            nn.ReLU(),\n",
        "            nn.BatchNorm2d(16),\n",
        "            nn.MaxPool2d(2, 2),\n",
        "            nn.Dropout(dropout_prob),\n",
        "\n",
        "            nn.Conv2d(16, 32, kernel_size=3, stride=1, padding=1),\n",
        "            nn.ReLU(),\n",
        "            nn.BatchNorm2d(32),\n",
        "            nn.MaxPool2d(2, 2),\n",
        "            nn.Dropout(dropout_prob),\n",
        "\n",
        "            nn.Conv2d(32, 64, kernel_size=3, stride=1, padding=1),\n",
        "            nn.ReLU(),\n",
        "            nn.BatchNorm2d(64),\n",
        "            nn.MaxPool2d(2, 2),\n",
        "            nn.Dropout(dropout_prob),\n",
        "\n",
        "            nn.Conv2d(64, 128, kernel_size=3, stride=1, padding=1),\n",
        "            nn.ReLU(),\n",
        "            nn.BatchNorm2d(128),\n",
        "            nn.MaxPool2d(2, 2),\n",
        "            nn.Dropout(dropout_prob)\n",
        "        )\n",
        "\n",
        "        # 디코더\n",
        "        self.decoder = nn.Sequential(\n",
        "            nn.ConvTranspose2d(128, 64, kernel_size=2, stride=2),\n",
        "            nn.ReLU(),\n",
        "            nn.BatchNorm2d(64),\n",
        "            nn.Dropout(dropout_prob),\n",
        "\n",
        "            nn.ConvTranspose2d(64, 32, kernel_size=2, stride=2),\n",
        "            nn.ReLU(),\n",
        "            nn.BatchNorm2d(32),\n",
        "            nn.Dropout(dropout_prob),\n",
        "\n",
        "            nn.ConvTranspose2d(32, 16, kernel_size=2, stride=2),\n",
        "            nn.ReLU(),\n",
        "            nn.BatchNorm2d(16),\n",
        "            nn.Dropout(dropout_prob),\n",
        "\n",
        "            nn.ConvTranspose2d(16, 1, kernel_size=2, stride=2, output_padding=1),\n",
        "            nn.Sigmoid()\n",
        "        )\n",
        "\n",
        "    def forward(self, x):\n",
        "        x = self.encoder(x)\n",
        "        x = self.decoder(x)\n",
        "        target_height, target_width = 128, 313  # 예상되는 목표 크기\n",
        "        x = F.interpolate(x, size=(target_height, target_width), mode='bilinear', align_corners=False)\n",
        "\n",
        "\n",
        "        return x\n"
      ],
      "metadata": {
        "id": "Kyk03Pkje9st"
      },
      "execution_count": null,
      "outputs": []
    },
    {
      "cell_type": "code",
      "source": [],
      "metadata": {
        "id": "dCjPQ0b7xJMk"
      },
      "execution_count": null,
      "outputs": []
    },
    {
      "cell_type": "code",
      "source": [
        "# import os\n",
        "# from sklearn.model_selection import train_test_split\n",
        "\n",
        "# # 각 machine_id별로 처리\n",
        "# for machine_id in machine_ids:\n",
        "#     # 해당 machine_id의 train 파일 경로 수집\n",
        "#     train_files = [os.path.join(train_data_path, machine_id, 'train', file)\n",
        "#                    for file in os.listdir(os.path.join(train_data_path, machine_id, 'train'))]\n",
        "\n",
        "#     # 해당 machine_id의 train 데이터셋에서 min_val과 max_val 계산\n",
        "#     temp_dataset = AudioDataset(train_files)\n",
        "#     min_val, max_val = temp_dataset.calculate_min_max_values()\n",
        "\n",
        "#     # 데이터셋 분할\n",
        "#     train_files, val_files = train_test_split(train_files, test_size=0.2, random_state=2023)\n",
        "\n",
        "#     # 데이터셋 인스턴스 생성\n",
        "#     train_dataset = AudioDataset(train_files, min_val, max_val)\n",
        "#     val_dataset = AudioDataset(val_files, min_val, max_val)\n",
        "\n",
        "#     # DataLoader 인스턴스 생성\n",
        "#     train_loader = DataLoader(train_dataset, batch_size=32, shuffle=True)\n",
        "#     val_loader = DataLoader(val_dataset, batch_size=32, shuffle=False)\n",
        "\n",
        "#     # 여기서 모델 트레이닝 및 검증 로직 추가\n"
      ],
      "metadata": {
        "id": "u6J-Zsb0cTKi"
      },
      "execution_count": null,
      "outputs": []
    },
    {
      "cell_type": "code",
      "source": [
        "from tqdm import tqdm\n",
        "\n",
        "# 모델 훈련 함수\n",
        "def train_model(model, train_loader, val_loader, machine_id, n_epochs=50):\n",
        "    early_stopping = EarlyStopping(patience=7, verbose=True)\n",
        "\n",
        "    optimizer = optim.Adam(model.parameters(), lr=0.001)\n",
        "    criterion = nn.MSELoss()\n",
        "\n",
        "    train_losses = []\n",
        "    val_losses = []\n",
        "\n",
        "    for epoch in range(n_epochs):\n",
        "        model.train()\n",
        "        running_loss = 0.0\n",
        "        for mixed_x in tqdm(train_loader, desc=f\"Epoch {epoch+1} Training\"):\n",
        "            mixed_x = mixed_x.unsqueeze(1).to(device)\n",
        "            optimizer.zero_grad()\n",
        "            outputs = model(mixed_x)\n",
        "            loss = criterion(outputs, mixed_x)\n",
        "            loss.backward()\n",
        "            optimizer.step()\n",
        "            running_loss += loss.item()\n",
        "\n",
        "        train_losses.append(running_loss / len(train_loader))\n",
        "\n",
        "        model.eval()\n",
        "        val_loss = 0.0\n",
        "        with torch.no_grad():\n",
        "          for mixed_x in tqdm(val_loader, desc=f\"Epoch {epoch+1} Validation\"):\n",
        "              mixed_x = mixed_x.unsqueeze(1).to(device)\n",
        "              outputs = model(mixed_x)\n",
        "              loss = criterion(outputs, mixed_x)\n",
        "              val_loss += loss.item()\n",
        "\n",
        "        val_loss = val_loss / len(val_loader)\n",
        "        val_losses.append(val_loss)\n",
        "\n",
        "        print(f'Epoch {epoch+1} Train loss: {train_losses[-1]:.4f}, Val loss: {val_loss:.4f}')\n",
        "\n",
        "         # 모델 저장 디렉토리 정의\n",
        "        model_save_dir = '/content/drive/My Drive/Capstone_Project/DCASE_challenge/fan'  # 모델을 저장할 경로\n",
        "\n",
        "        # 조기 종료 체크\n",
        "        early_stopping(val_loss, model)\n",
        "\n",
        "        if early_stopping.early_stop:\n",
        "            print(\"Early stopping\")\n",
        "            break\n",
        "\n",
        "\n",
        "        # 모델 파라미터 저장\n",
        "        model_save_path = f'{model_save_dir}/model_{machine_id}.pt'\n",
        "        torch.save(model.state_dict(), model_save_path)\n",
        "        model_save_dir = '/content/drive/My Drive/Capstone_Project/DCASE_challenge/fan/results'  # 구글 드라이브 내의 저장 경로로 변경\n",
        "        models[f'{machine_id}'] = model_save_path\n",
        "\n",
        "        if early_stopping.early_stop:\n",
        "            print(\"Initializing a new model for the next fold\")\n",
        "            model = Autoencoder().to(device)  # 새 모델 초기화\n",
        "\n",
        "\n",
        "    # 손실 그래프 그리기\n",
        "    plt.plot(train_losses, label='Training loss')\n",
        "    plt.plot(val_losses, label='Validation loss')\n",
        "    plt.legend()\n",
        "    plt.title(f'Machine ID {machine_id} Losses')\n",
        "    plt.xlabel('Epochs')\n",
        "    plt.ylabel('Loss')\n",
        "    plt.show()\n",
        "\n",
        "    # 검증 손실의 평균과 표준편차 계산\n",
        "    val_loss_mean = np.mean(val_losses)\n",
        "    val_loss_std = np.std(val_losses)\n",
        "    print(f'Validation Loss for Machine ID {machine_id}: Mean - {val_loss_mean}, Standard Deviation - {val_loss_std}')\n",
        "    return model, val_loss_mean, val_loss_std\n",
        "\n"
      ],
      "metadata": {
        "id": "67eIAgTK1nRI"
      },
      "execution_count": null,
      "outputs": []
    },
    {
      "cell_type": "code",
      "source": [
        "# # 모델 초기화 및 훈련 함수 호출\n",
        "# models = {}\n",
        "# for machine_id in machine_ids:\n",
        "#     print(f'Starting training for Machine ID {machine_id}')\n",
        "#     model = Autoencoder().to(device)  # 모델 인스턴스 생성\n",
        "#     model = train_model(model, train_loader, val_loader, machine_id)\n",
        "#     models[machine_id] = model  # 훈련된 모델 저장"
      ],
      "metadata": {
        "colab": {
          "base_uri": "https://localhost:8080/",
          "height": 1000
        },
        "id": "Fq4ARSKUxJPa",
        "outputId": "434b80fd-835b-46c1-e576-a19454218949"
      },
      "execution_count": null,
      "outputs": [
        {
          "output_type": "stream",
          "name": "stdout",
          "text": [
            "Starting training for Machine ID machine_id_00\n"
          ]
        },
        {
          "output_type": "stream",
          "name": "stderr",
          "text": [
            "Epoch 1 Training: 100%|██████████| 23/23 [00:46<00:00,  2.03s/it]\n",
            "Epoch 1 Validation: 100%|██████████| 6/6 [00:07<00:00,  1.28s/it]\n"
          ]
        },
        {
          "output_type": "stream",
          "name": "stdout",
          "text": [
            "Epoch 1 Train loss: 0.0172, Val loss: 0.0141\n",
            "Validation loss decreased (inf --> 0.014101).  Saving model ...\n"
          ]
        },
        {
          "output_type": "stream",
          "name": "stderr",
          "text": [
            "Epoch 2 Training: 100%|██████████| 23/23 [00:42<00:00,  1.86s/it]\n",
            "Epoch 2 Validation: 100%|██████████| 6/6 [00:08<00:00,  1.38s/it]\n"
          ]
        },
        {
          "output_type": "stream",
          "name": "stdout",
          "text": [
            "Epoch 2 Train loss: 0.0068, Val loss: 0.0157\n",
            "EarlyStopping counter: 1 out of 7\n"
          ]
        },
        {
          "output_type": "stream",
          "name": "stderr",
          "text": [
            "Epoch 3 Training: 100%|██████████| 23/23 [00:40<00:00,  1.78s/it]\n",
            "Epoch 3 Validation: 100%|██████████| 6/6 [00:09<00:00,  1.62s/it]\n"
          ]
        },
        {
          "output_type": "stream",
          "name": "stdout",
          "text": [
            "Epoch 3 Train loss: 0.0056, Val loss: 0.0048\n",
            "Validation loss decreased (0.014101 --> 0.004836).  Saving model ...\n"
          ]
        },
        {
          "output_type": "stream",
          "name": "stderr",
          "text": [
            "Epoch 4 Training: 100%|██████████| 23/23 [00:45<00:00,  1.97s/it]\n",
            "Epoch 4 Validation: 100%|██████████| 6/6 [00:08<00:00,  1.47s/it]\n"
          ]
        },
        {
          "output_type": "stream",
          "name": "stdout",
          "text": [
            "Epoch 4 Train loss: 0.0047, Val loss: 0.0050\n",
            "EarlyStopping counter: 1 out of 7\n"
          ]
        },
        {
          "output_type": "stream",
          "name": "stderr",
          "text": [
            "Epoch 5 Training: 100%|██████████| 23/23 [00:40<00:00,  1.77s/it]\n",
            "Epoch 5 Validation: 100%|██████████| 6/6 [00:09<00:00,  1.64s/it]\n"
          ]
        },
        {
          "output_type": "stream",
          "name": "stdout",
          "text": [
            "Epoch 5 Train loss: 0.0043, Val loss: 0.0041\n",
            "Validation loss decreased (0.004836 --> 0.004060).  Saving model ...\n"
          ]
        },
        {
          "output_type": "stream",
          "name": "stderr",
          "text": [
            "Epoch 6 Training: 100%|██████████| 23/23 [00:39<00:00,  1.72s/it]\n",
            "Epoch 6 Validation: 100%|██████████| 6/6 [00:11<00:00,  1.88s/it]\n"
          ]
        },
        {
          "output_type": "stream",
          "name": "stdout",
          "text": [
            "Epoch 6 Train loss: 0.0040, Val loss: 0.0044\n",
            "EarlyStopping counter: 1 out of 7\n"
          ]
        },
        {
          "output_type": "stream",
          "name": "stderr",
          "text": [
            "Epoch 7 Training: 100%|██████████| 23/23 [00:39<00:00,  1.72s/it]\n",
            "Epoch 7 Validation: 100%|██████████| 6/6 [00:11<00:00,  1.88s/it]\n"
          ]
        },
        {
          "output_type": "stream",
          "name": "stdout",
          "text": [
            "Epoch 7 Train loss: 0.0038, Val loss: 0.0379\n",
            "EarlyStopping counter: 2 out of 7\n"
          ]
        },
        {
          "output_type": "stream",
          "name": "stderr",
          "text": [
            "Epoch 8 Training: 100%|██████████| 23/23 [00:43<00:00,  1.89s/it]\n",
            "Epoch 8 Validation: 100%|██████████| 6/6 [00:10<00:00,  1.74s/it]\n"
          ]
        },
        {
          "output_type": "stream",
          "name": "stdout",
          "text": [
            "Epoch 8 Train loss: 0.0037, Val loss: 0.0037\n",
            "Validation loss decreased (0.004060 --> 0.003679).  Saving model ...\n"
          ]
        },
        {
          "output_type": "stream",
          "name": "stderr",
          "text": [
            "Epoch 9 Training: 100%|██████████| 23/23 [00:39<00:00,  1.72s/it]\n",
            "Epoch 9 Validation: 100%|██████████| 6/6 [00:11<00:00,  1.85s/it]\n"
          ]
        },
        {
          "output_type": "stream",
          "name": "stdout",
          "text": [
            "Epoch 9 Train loss: 0.0035, Val loss: 0.0041\n",
            "EarlyStopping counter: 1 out of 7\n"
          ]
        },
        {
          "output_type": "stream",
          "name": "stderr",
          "text": [
            "Epoch 10 Training: 100%|██████████| 23/23 [00:39<00:00,  1.72s/it]\n",
            "Epoch 10 Validation: 100%|██████████| 6/6 [00:11<00:00,  1.87s/it]\n"
          ]
        },
        {
          "output_type": "stream",
          "name": "stdout",
          "text": [
            "Epoch 10 Train loss: 0.0034, Val loss: 0.0032\n",
            "Validation loss decreased (0.003679 --> 0.003214).  Saving model ...\n"
          ]
        },
        {
          "output_type": "stream",
          "name": "stderr",
          "text": [
            "Epoch 11 Training: 100%|██████████| 23/23 [00:39<00:00,  1.72s/it]\n",
            "Epoch 11 Validation: 100%|██████████| 6/6 [00:11<00:00,  1.85s/it]\n"
          ]
        },
        {
          "output_type": "stream",
          "name": "stdout",
          "text": [
            "Epoch 11 Train loss: 0.0033, Val loss: 0.0039\n",
            "EarlyStopping counter: 1 out of 7\n"
          ]
        },
        {
          "output_type": "stream",
          "name": "stderr",
          "text": [
            "Epoch 12 Training: 100%|██████████| 23/23 [00:39<00:00,  1.72s/it]\n",
            "Epoch 12 Validation: 100%|██████████| 6/6 [00:11<00:00,  1.88s/it]\n"
          ]
        },
        {
          "output_type": "stream",
          "name": "stdout",
          "text": [
            "Epoch 12 Train loss: 0.0032, Val loss: 0.0034\n",
            "EarlyStopping counter: 2 out of 7\n"
          ]
        },
        {
          "output_type": "stream",
          "name": "stderr",
          "text": [
            "Epoch 13 Training: 100%|██████████| 23/23 [00:42<00:00,  1.85s/it]\n",
            "Epoch 13 Validation: 100%|██████████| 6/6 [00:11<00:00,  1.84s/it]\n"
          ]
        },
        {
          "output_type": "stream",
          "name": "stdout",
          "text": [
            "Epoch 13 Train loss: 0.0031, Val loss: 0.0032\n",
            "EarlyStopping counter: 3 out of 7\n"
          ]
        },
        {
          "output_type": "stream",
          "name": "stderr",
          "text": [
            "Epoch 14 Training: 100%|██████████| 23/23 [00:39<00:00,  1.74s/it]\n",
            "Epoch 14 Validation: 100%|██████████| 6/6 [00:10<00:00,  1.70s/it]\n"
          ]
        },
        {
          "output_type": "stream",
          "name": "stdout",
          "text": [
            "Epoch 14 Train loss: 0.0030, Val loss: 0.0091\n",
            "EarlyStopping counter: 4 out of 7\n"
          ]
        },
        {
          "output_type": "stream",
          "name": "stderr",
          "text": [
            "Epoch 15 Training: 100%|██████████| 23/23 [00:41<00:00,  1.79s/it]\n",
            "Epoch 15 Validation: 100%|██████████| 6/6 [00:09<00:00,  1.56s/it]\n"
          ]
        },
        {
          "output_type": "stream",
          "name": "stdout",
          "text": [
            "Epoch 15 Train loss: 0.0030, Val loss: 0.0129\n",
            "EarlyStopping counter: 5 out of 7\n"
          ]
        },
        {
          "output_type": "stream",
          "name": "stderr",
          "text": [
            "Epoch 16 Training: 100%|██████████| 23/23 [00:41<00:00,  1.81s/it]\n",
            "Epoch 16 Validation: 100%|██████████| 6/6 [00:08<00:00,  1.37s/it]\n"
          ]
        },
        {
          "output_type": "stream",
          "name": "stdout",
          "text": [
            "Epoch 16 Train loss: 0.0029, Val loss: 0.0061\n",
            "EarlyStopping counter: 6 out of 7\n"
          ]
        },
        {
          "output_type": "stream",
          "name": "stderr",
          "text": [
            "Epoch 17 Training: 100%|██████████| 23/23 [00:45<00:00,  1.99s/it]\n",
            "Epoch 17 Validation: 100%|██████████| 6/6 [00:07<00:00,  1.33s/it]\n"
          ]
        },
        {
          "output_type": "stream",
          "name": "stdout",
          "text": [
            "Epoch 17 Train loss: 0.0028, Val loss: 0.0098\n",
            "EarlyStopping counter: 7 out of 7\n",
            "Early stopping\n"
          ]
        },
        {
          "output_type": "display_data",
          "data": {
            "text/plain": [
              "<Figure size 640x480 with 1 Axes>"
            ],
            "image/png": "[encoded data removed]"
          },
          "metadata": {}
        },
        {
          "output_type": "stream",
          "name": "stdout",
          "text": [
            "Validation Loss for Machine ID machine_id_00: Mean - 0.00854828663161207, Standard Deviation - 0.008348092202628627\n",
            "Starting training for Machine ID machine_id_02\n"
          ]
        },
        {
          "output_type": "stream",
          "name": "stderr",
          "text": [
            "Epoch 1 Training: 100%|██████████| 23/23 [00:44<00:00,  1.94s/it]\n",
            "Epoch 1 Validation: 100%|██████████| 6/6 [00:08<00:00,  1.34s/it]\n"
          ]
        },
        {
          "output_type": "stream",
          "name": "stdout",
          "text": [
            "Epoch 1 Train loss: 0.0178, Val loss: 0.0123\n",
            "Validation loss decreased (inf --> 0.012337).  Saving model ...\n"
          ]
        },
        {
          "output_type": "stream",
          "name": "stderr",
          "text": [
            "Epoch 2 Training: 100%|██████████| 23/23 [00:42<00:00,  1.85s/it]\n",
            "Epoch 2 Validation: 100%|██████████| 6/6 [00:07<00:00,  1.31s/it]\n"
          ]
        },
        {
          "output_type": "stream",
          "name": "stdout",
          "text": [
            "Epoch 2 Train loss: 0.0083, Val loss: 0.0060\n",
            "Validation loss decreased (0.012337 --> 0.005966).  Saving model ...\n"
          ]
        },
        {
          "output_type": "stream",
          "name": "stderr",
          "text": [
            "Epoch 3 Training: 100%|██████████| 23/23 [00:42<00:00,  1.85s/it]\n",
            "Epoch 3 Validation: 100%|██████████| 6/6 [00:08<00:00,  1.39s/it]\n"
          ]
        },
        {
          "output_type": "stream",
          "name": "stdout",
          "text": [
            "Epoch 3 Train loss: 0.0064, Val loss: 0.0044\n",
            "Validation loss decreased (0.005966 --> 0.004407).  Saving model ...\n"
          ]
        },
        {
          "output_type": "stream",
          "name": "stderr",
          "text": [
            "Epoch 4 Training: 100%|██████████| 23/23 [00:43<00:00,  1.88s/it]\n",
            "Epoch 4 Validation: 100%|██████████| 6/6 [00:08<00:00,  1.45s/it]\n"
          ]
        },
        {
          "output_type": "stream",
          "name": "stdout",
          "text": [
            "Epoch 4 Train loss: 0.0055, Val loss: 0.0040\n",
            "Validation loss decreased (0.004407 --> 0.004034).  Saving model ...\n"
          ]
        },
        {
          "output_type": "stream",
          "name": "stderr",
          "text": [
            "Epoch 5 Training: 100%|██████████| 23/23 [00:48<00:00,  2.11s/it]\n",
            "Epoch 5 Validation: 100%|██████████| 6/6 [00:08<00:00,  1.38s/it]\n"
          ]
        },
        {
          "output_type": "stream",
          "name": "stdout",
          "text": [
            "Epoch 5 Train loss: 0.0049, Val loss: 0.0041\n",
            "EarlyStopping counter: 1 out of 7\n"
          ]
        },
        {
          "output_type": "stream",
          "name": "stderr",
          "text": [
            "Epoch 6 Training: 100%|██████████| 23/23 [00:41<00:00,  1.82s/it]\n",
            "Epoch 6 Validation: 100%|██████████| 6/6 [00:09<00:00,  1.50s/it]\n"
          ]
        },
        {
          "output_type": "stream",
          "name": "stdout",
          "text": [
            "Epoch 6 Train loss: 0.0045, Val loss: 0.0046\n",
            "EarlyStopping counter: 2 out of 7\n"
          ]
        },
        {
          "output_type": "stream",
          "name": "stderr",
          "text": [
            "Epoch 7 Training: 100%|██████████| 23/23 [00:41<00:00,  1.82s/it]\n",
            "Epoch 7 Validation: 100%|██████████| 6/6 [00:09<00:00,  1.58s/it]\n"
          ]
        },
        {
          "output_type": "stream",
          "name": "stdout",
          "text": [
            "Epoch 7 Train loss: 0.0040, Val loss: 0.0045\n",
            "EarlyStopping counter: 3 out of 7\n"
          ]
        },
        {
          "output_type": "stream",
          "name": "stderr",
          "text": [
            "Epoch 8 Training: 100%|██████████| 23/23 [00:39<00:00,  1.73s/it]\n",
            "Epoch 8 Validation: 100%|██████████| 6/6 [00:10<00:00,  1.76s/it]\n"
          ]
        },
        {
          "output_type": "stream",
          "name": "stdout",
          "text": [
            "Epoch 8 Train loss: 0.0037, Val loss: 0.0039\n",
            "Validation loss decreased (0.004034 --> 0.003924).  Saving model ...\n"
          ]
        },
        {
          "output_type": "stream",
          "name": "stderr",
          "text": [
            "Epoch 9 Training: 100%|██████████| 23/23 [00:44<00:00,  1.93s/it]\n",
            "Epoch 9 Validation: 100%|██████████| 6/6 [00:09<00:00,  1.59s/it]\n"
          ]
        },
        {
          "output_type": "stream",
          "name": "stdout",
          "text": [
            "Epoch 9 Train loss: 0.0035, Val loss: 0.0035\n",
            "Validation loss decreased (0.003924 --> 0.003513).  Saving model ...\n"
          ]
        },
        {
          "output_type": "stream",
          "name": "stderr",
          "text": [
            "Epoch 10 Training: 100%|██████████| 23/23 [00:40<00:00,  1.77s/it]\n",
            "Epoch 10 Validation: 100%|██████████| 6/6 [00:10<00:00,  1.77s/it]\n"
          ]
        },
        {
          "output_type": "stream",
          "name": "stdout",
          "text": [
            "Epoch 10 Train loss: 0.0036, Val loss: 0.0039\n",
            "EarlyStopping counter: 1 out of 7\n"
          ]
        },
        {
          "output_type": "stream",
          "name": "stderr",
          "text": [
            "Epoch 11 Training: 100%|██████████| 23/23 [00:39<00:00,  1.71s/it]\n",
            "Epoch 11 Validation: 100%|██████████| 6/6 [00:11<00:00,  1.89s/it]\n"
          ]
        },
        {
          "output_type": "stream",
          "name": "stdout",
          "text": [
            "Epoch 11 Train loss: 0.0034, Val loss: 0.0026\n",
            "Validation loss decreased (0.003513 --> 0.002579).  Saving model ...\n"
          ]
        },
        {
          "output_type": "stream",
          "name": "stderr",
          "text": [
            "Epoch 12 Training: 100%|██████████| 23/23 [00:39<00:00,  1.73s/it]\n",
            "Epoch 12 Validation: 100%|██████████| 6/6 [00:11<00:00,  1.90s/it]\n"
          ]
        },
        {
          "output_type": "stream",
          "name": "stdout",
          "text": [
            "Epoch 12 Train loss: 0.0033, Val loss: 0.0027\n",
            "EarlyStopping counter: 1 out of 7\n"
          ]
        },
        {
          "output_type": "stream",
          "name": "stderr",
          "text": [
            "Epoch 13 Training: 100%|██████████| 23/23 [00:39<00:00,  1.71s/it]\n",
            "Epoch 13 Validation: 100%|██████████| 6/6 [00:11<00:00,  1.83s/it]\n"
          ]
        },
        {
          "output_type": "stream",
          "name": "stdout",
          "text": [
            "Epoch 13 Train loss: 0.0031, Val loss: 0.0024\n",
            "Validation loss decreased (0.002579 --> 0.002388).  Saving model ...\n"
          ]
        },
        {
          "output_type": "stream",
          "name": "stderr",
          "text": [
            "Epoch 14 Training: 100%|██████████| 23/23 [00:42<00:00,  1.84s/it]\n",
            "Epoch 14 Validation: 100%|██████████| 6/6 [00:15<00:00,  2.59s/it]\n"
          ]
        },
        {
          "output_type": "stream",
          "name": "stdout",
          "text": [
            "Epoch 14 Train loss: 0.0030, Val loss: 0.0025\n",
            "EarlyStopping counter: 1 out of 7\n"
          ]
        },
        {
          "output_type": "stream",
          "name": "stderr",
          "text": [
            "Epoch 15 Training: 100%|██████████| 23/23 [00:46<00:00,  2.03s/it]\n",
            "Epoch 15 Validation: 100%|██████████| 6/6 [00:14<00:00,  2.36s/it]\n"
          ]
        },
        {
          "output_type": "stream",
          "name": "stdout",
          "text": [
            "Epoch 15 Train loss: 0.0031, Val loss: 0.0023\n",
            "Validation loss decreased (0.002388 --> 0.002292).  Saving model ...\n"
          ]
        },
        {
          "output_type": "stream",
          "name": "stderr",
          "text": [
            "Epoch 16 Training: 100%|██████████| 23/23 [00:43<00:00,  1.88s/it]\n",
            "Epoch 16 Validation: 100%|██████████| 6/6 [00:08<00:00,  1.33s/it]\n"
          ]
        },
        {
          "output_type": "stream",
          "name": "stdout",
          "text": [
            "Epoch 16 Train loss: 0.0029, Val loss: 0.0025\n",
            "EarlyStopping counter: 1 out of 7\n"
          ]
        },
        {
          "output_type": "stream",
          "name": "stderr",
          "text": [
            "Epoch 17 Training: 100%|██████████| 23/23 [00:48<00:00,  2.09s/it]\n",
            "Epoch 17 Validation: 100%|██████████| 6/6 [00:12<00:00,  2.06s/it]\n"
          ]
        },
        {
          "output_type": "stream",
          "name": "stdout",
          "text": [
            "Epoch 17 Train loss: 0.0029, Val loss: 0.0027\n",
            "EarlyStopping counter: 2 out of 7\n"
          ]
        },
        {
          "output_type": "stream",
          "name": "stderr",
          "text": [
            "Epoch 18 Training: 100%|██████████| 23/23 [00:45<00:00,  2.00s/it]\n",
            "Epoch 18 Validation: 100%|██████████| 6/6 [00:10<00:00,  1.83s/it]\n"
          ]
        },
        {
          "output_type": "stream",
          "name": "stdout",
          "text": [
            "Epoch 18 Train loss: 0.0029, Val loss: 0.0038\n",
            "EarlyStopping counter: 3 out of 7\n"
          ]
        },
        {
          "output_type": "stream",
          "name": "stderr",
          "text": [
            "Epoch 19 Training: 100%|██████████| 23/23 [00:40<00:00,  1.76s/it]\n",
            "Epoch 19 Validation: 100%|██████████| 6/6 [00:09<00:00,  1.56s/it]\n"
          ]
        },
        {
          "output_type": "stream",
          "name": "stdout",
          "text": [
            "Epoch 19 Train loss: 0.0029, Val loss: 0.0025\n",
            "EarlyStopping counter: 4 out of 7\n"
          ]
        },
        {
          "output_type": "stream",
          "name": "stderr",
          "text": [
            "Epoch 20 Training: 100%|██████████| 23/23 [00:39<00:00,  1.70s/it]\n",
            "Epoch 20 Validation: 100%|██████████| 6/6 [00:11<00:00,  1.85s/it]\n"
          ]
        },
        {
          "output_type": "stream",
          "name": "stdout",
          "text": [
            "Epoch 20 Train loss: 0.0028, Val loss: 0.0071\n",
            "EarlyStopping counter: 5 out of 7\n"
          ]
        },
        {
          "output_type": "stream",
          "name": "stderr",
          "text": [
            "Epoch 21 Training: 100%|██████████| 23/23 [00:39<00:00,  1.71s/it]\n",
            "Epoch 21 Validation: 100%|██████████| 6/6 [00:11<00:00,  1.87s/it]\n"
          ]
        },
        {
          "output_type": "stream",
          "name": "stdout",
          "text": [
            "Epoch 21 Train loss: 0.0028, Val loss: 0.0027\n",
            "EarlyStopping counter: 6 out of 7\n"
          ]
        },
        {
          "output_type": "stream",
          "name": "stderr",
          "text": [
            "Epoch 22 Training: 100%|██████████| 23/23 [00:39<00:00,  1.72s/it]\n",
            "Epoch 22 Validation: 100%|██████████| 6/6 [00:13<00:00,  2.33s/it]\n"
          ]
        },
        {
          "output_type": "stream",
          "name": "stdout",
          "text": [
            "Epoch 22 Train loss: 0.0029, Val loss: 0.0029\n",
            "EarlyStopping counter: 7 out of 7\n",
            "Early stopping\n"
          ]
        },
        {
          "output_type": "display_data",
          "data": {
            "text/plain": [
              "<Figure size 640x480 with 1 Axes>"
            ],
            "image/png": "[encoded data removed]"
          },
          "metadata": {}
        },
        {
          "output_type": "stream",
          "name": "stdout",
          "text": [
            "Validation Loss for Machine ID machine_id_02: Mean - 0.003994531273333864, Standard Deviation - 0.002180829094738874\n",
            "Starting training for Machine ID machine_id_04\n"
          ]
        },
        {
          "output_type": "stream",
          "name": "stderr",
          "text": [
            "Epoch 1 Training: 100%|██████████| 23/23 [00:40<00:00,  1.75s/it]\n",
            "Epoch 1 Validation: 100%|██████████| 6/6 [00:11<00:00,  1.85s/it]\n"
          ]
        },
        {
          "output_type": "stream",
          "name": "stdout",
          "text": [
            "Epoch 1 Train loss: 0.0459, Val loss: 0.0295\n",
            "Validation loss decreased (inf --> 0.029542).  Saving model ...\n"
          ]
        },
        {
          "output_type": "stream",
          "name": "stderr",
          "text": [
            "Epoch 2 Training: 100%|██████████| 23/23 [00:39<00:00,  1.72s/it]\n",
            "Epoch 2 Validation: 100%|██████████| 6/6 [00:11<00:00,  1.92s/it]\n"
          ]
        },
        {
          "output_type": "stream",
          "name": "stdout",
          "text": [
            "Epoch 2 Train loss: 0.0314, Val loss: 0.0181\n",
            "Validation loss decreased (0.029542 --> 0.018051).  Saving model ...\n"
          ]
        },
        {
          "output_type": "stream",
          "name": "stderr",
          "text": [
            "Epoch 3 Training: 100%|██████████| 23/23 [00:39<00:00,  1.72s/it]\n",
            "Epoch 3 Validation: 100%|██████████| 6/6 [00:11<00:00,  1.88s/it]\n"
          ]
        },
        {
          "output_type": "stream",
          "name": "stdout",
          "text": [
            "Epoch 3 Train loss: 0.0233, Val loss: 0.0161\n",
            "Validation loss decreased (0.018051 --> 0.016060).  Saving model ...\n"
          ]
        },
        {
          "output_type": "stream",
          "name": "stderr",
          "text": [
            "Epoch 4 Training: 100%|██████████| 23/23 [00:39<00:00,  1.72s/it]\n",
            "Epoch 4 Validation: 100%|██████████| 6/6 [00:10<00:00,  1.69s/it]\n"
          ]
        },
        {
          "output_type": "stream",
          "name": "stdout",
          "text": [
            "Epoch 4 Train loss: 0.0178, Val loss: 0.0201\n",
            "EarlyStopping counter: 1 out of 7\n"
          ]
        },
        {
          "output_type": "stream",
          "name": "stderr",
          "text": [
            "Epoch 5 Training: 100%|██████████| 23/23 [00:42<00:00,  1.85s/it]\n",
            "Epoch 5 Validation: 100%|██████████| 6/6 [00:09<00:00,  1.51s/it]\n"
          ]
        },
        {
          "output_type": "stream",
          "name": "stdout",
          "text": [
            "Epoch 5 Train loss: 0.0134, Val loss: 0.0132\n",
            "Validation loss decreased (0.016060 --> 0.013223).  Saving model ...\n"
          ]
        },
        {
          "output_type": "stream",
          "name": "stderr",
          "text": [
            "Epoch 6 Training: 100%|██████████| 23/23 [00:42<00:00,  1.83s/it]\n",
            "Epoch 6 Validation: 100%|██████████| 6/6 [00:07<00:00,  1.32s/it]\n"
          ]
        },
        {
          "output_type": "stream",
          "name": "stdout",
          "text": [
            "Epoch 6 Train loss: 0.0109, Val loss: 0.0094\n",
            "Validation loss decreased (0.013223 --> 0.009413).  Saving model ...\n"
          ]
        },
        {
          "output_type": "stream",
          "name": "stderr",
          "text": [
            "Epoch 7 Training: 100%|██████████| 23/23 [00:42<00:00,  1.85s/it]\n",
            "Epoch 7 Validation: 100%|██████████| 6/6 [00:07<00:00,  1.31s/it]\n"
          ]
        },
        {
          "output_type": "stream",
          "name": "stdout",
          "text": [
            "Epoch 7 Train loss: 0.0087, Val loss: 0.0080\n",
            "Validation loss decreased (0.009413 --> 0.007969).  Saving model ...\n"
          ]
        },
        {
          "output_type": "stream",
          "name": "stderr",
          "text": [
            "Epoch 8 Training: 100%|██████████| 23/23 [00:41<00:00,  1.80s/it]\n",
            "Epoch 8 Validation: 100%|██████████| 6/6 [00:08<00:00,  1.44s/it]\n"
          ]
        },
        {
          "output_type": "stream",
          "name": "stdout",
          "text": [
            "Epoch 8 Train loss: 0.0072, Val loss: 0.0076\n",
            "Validation loss decreased (0.007969 --> 0.007646).  Saving model ...\n"
          ]
        },
        {
          "output_type": "stream",
          "name": "stderr",
          "text": [
            "Epoch 9 Training: 100%|██████████| 23/23 [00:40<00:00,  1.75s/it]\n",
            "Epoch 9 Validation: 100%|██████████| 6/6 [00:09<00:00,  1.64s/it]\n"
          ]
        },
        {
          "output_type": "stream",
          "name": "stdout",
          "text": [
            "Epoch 9 Train loss: 0.0059, Val loss: 0.0048\n",
            "Validation loss decreased (0.007646 --> 0.004763).  Saving model ...\n"
          ]
        },
        {
          "output_type": "stream",
          "name": "stderr",
          "text": [
            "Epoch 10 Training: 100%|██████████| 23/23 [00:42<00:00,  1.83s/it]\n",
            "Epoch 10 Validation: 100%|██████████| 6/6 [00:11<00:00,  1.84s/it]\n"
          ]
        },
        {
          "output_type": "stream",
          "name": "stdout",
          "text": [
            "Epoch 10 Train loss: 0.0051, Val loss: 0.0039\n",
            "Validation loss decreased (0.004763 --> 0.003859).  Saving model ...\n"
          ]
        },
        {
          "output_type": "stream",
          "name": "stderr",
          "text": [
            "Epoch 11 Training: 100%|██████████| 23/23 [00:38<00:00,  1.69s/it]\n",
            "Epoch 11 Validation: 100%|██████████| 6/6 [00:12<00:00,  2.11s/it]\n"
          ]
        },
        {
          "output_type": "stream",
          "name": "stdout",
          "text": [
            "Epoch 11 Train loss: 0.0046, Val loss: 0.0043\n",
            "EarlyStopping counter: 1 out of 7\n"
          ]
        },
        {
          "output_type": "stream",
          "name": "stderr",
          "text": [
            "Epoch 12 Training: 100%|██████████| 23/23 [00:41<00:00,  1.80s/it]\n",
            "Epoch 12 Validation: 100%|██████████| 6/6 [00:11<00:00,  1.85s/it]\n"
          ]
        },
        {
          "output_type": "stream",
          "name": "stdout",
          "text": [
            "Epoch 12 Train loss: 0.0043, Val loss: 0.0030\n",
            "Validation loss decreased (0.003859 --> 0.002996).  Saving model ...\n"
          ]
        },
        {
          "output_type": "stream",
          "name": "stderr",
          "text": [
            "Epoch 13 Training: 100%|██████████| 23/23 [00:38<00:00,  1.68s/it]\n",
            "Epoch 13 Validation: 100%|██████████| 6/6 [00:10<00:00,  1.71s/it]\n"
          ]
        },
        {
          "output_type": "stream",
          "name": "stdout",
          "text": [
            "Epoch 13 Train loss: 0.0041, Val loss: 0.0041\n",
            "EarlyStopping counter: 1 out of 7\n"
          ]
        },
        {
          "output_type": "stream",
          "name": "stderr",
          "text": [
            "Epoch 14 Training: 100%|██████████| 23/23 [00:39<00:00,  1.72s/it]\n",
            "Epoch 14 Validation: 100%|██████████| 6/6 [00:08<00:00,  1.34s/it]\n"
          ]
        },
        {
          "output_type": "stream",
          "name": "stdout",
          "text": [
            "Epoch 14 Train loss: 0.0042, Val loss: 0.1687\n",
            "EarlyStopping counter: 2 out of 7\n"
          ]
        },
        {
          "output_type": "stream",
          "name": "stderr",
          "text": [
            "Epoch 15 Training: 100%|██████████| 23/23 [00:44<00:00,  1.93s/it]\n",
            "Epoch 15 Validation: 100%|██████████| 6/6 [00:08<00:00,  1.49s/it]\n"
          ]
        },
        {
          "output_type": "stream",
          "name": "stdout",
          "text": [
            "Epoch 15 Train loss: 0.0039, Val loss: 0.0040\n",
            "EarlyStopping counter: 3 out of 7\n"
          ]
        },
        {
          "output_type": "stream",
          "name": "stderr",
          "text": [
            "Epoch 16 Training: 100%|██████████| 23/23 [00:39<00:00,  1.74s/it]\n",
            "Epoch 16 Validation: 100%|██████████| 6/6 [00:10<00:00,  1.72s/it]\n"
          ]
        },
        {
          "output_type": "stream",
          "name": "stdout",
          "text": [
            "Epoch 16 Train loss: 0.0038, Val loss: 0.0024\n",
            "Validation loss decreased (0.002996 --> 0.002395).  Saving model ...\n"
          ]
        },
        {
          "output_type": "stream",
          "name": "stderr",
          "text": [
            "Epoch 17 Training: 100%|██████████| 23/23 [00:39<00:00,  1.70s/it]\n",
            "Epoch 17 Validation: 100%|██████████| 6/6 [00:10<00:00,  1.82s/it]\n"
          ]
        },
        {
          "output_type": "stream",
          "name": "stdout",
          "text": [
            "Epoch 17 Train loss: 0.0037, Val loss: 0.0169\n",
            "EarlyStopping counter: 1 out of 7\n"
          ]
        },
        {
          "output_type": "stream",
          "name": "stderr",
          "text": [
            "Epoch 18 Training: 100%|██████████| 23/23 [00:38<00:00,  1.70s/it]\n",
            "Epoch 18 Validation: 100%|██████████| 6/6 [00:11<00:00,  1.88s/it]\n"
          ]
        },
        {
          "output_type": "stream",
          "name": "stdout",
          "text": [
            "Epoch 18 Train loss: 0.0037, Val loss: 0.0035\n",
            "EarlyStopping counter: 2 out of 7\n"
          ]
        },
        {
          "output_type": "stream",
          "name": "stderr",
          "text": [
            "Epoch 19 Training: 100%|██████████| 23/23 [00:38<00:00,  1.68s/it]\n",
            "Epoch 19 Validation: 100%|██████████| 6/6 [00:10<00:00,  1.83s/it]\n"
          ]
        },
        {
          "output_type": "stream",
          "name": "stdout",
          "text": [
            "Epoch 19 Train loss: 0.0035, Val loss: 0.0021\n",
            "Validation loss decreased (0.002395 --> 0.002059).  Saving model ...\n"
          ]
        },
        {
          "output_type": "stream",
          "name": "stderr",
          "text": [
            "Epoch 20 Training: 100%|██████████| 23/23 [00:41<00:00,  1.81s/it]\n",
            "Epoch 20 Validation: 100%|██████████| 6/6 [00:09<00:00,  1.57s/it]\n"
          ]
        },
        {
          "output_type": "stream",
          "name": "stdout",
          "text": [
            "Epoch 20 Train loss: 0.0034, Val loss: 0.0023\n",
            "EarlyStopping counter: 1 out of 7\n"
          ]
        },
        {
          "output_type": "stream",
          "name": "stderr",
          "text": [
            "Epoch 21 Training: 100%|██████████| 23/23 [00:40<00:00,  1.74s/it]\n",
            "Epoch 21 Validation: 100%|██████████| 6/6 [00:07<00:00,  1.30s/it]\n"
          ]
        },
        {
          "output_type": "stream",
          "name": "stdout",
          "text": [
            "Epoch 21 Train loss: 0.0034, Val loss: 0.0032\n",
            "EarlyStopping counter: 2 out of 7\n"
          ]
        },
        {
          "output_type": "stream",
          "name": "stderr",
          "text": [
            "Epoch 22 Training: 100%|██████████| 23/23 [00:41<00:00,  1.82s/it]\n",
            "Epoch 22 Validation: 100%|██████████| 6/6 [00:07<00:00,  1.30s/it]\n"
          ]
        },
        {
          "output_type": "stream",
          "name": "stdout",
          "text": [
            "Epoch 22 Train loss: 0.0033, Val loss: 0.0025\n",
            "EarlyStopping counter: 3 out of 7\n"
          ]
        },
        {
          "output_type": "stream",
          "name": "stderr",
          "text": [
            "Epoch 23 Training: 100%|██████████| 23/23 [00:39<00:00,  1.74s/it]\n",
            "Epoch 23 Validation: 100%|██████████| 6/6 [00:09<00:00,  1.62s/it]\n"
          ]
        },
        {
          "output_type": "stream",
          "name": "stdout",
          "text": [
            "Epoch 23 Train loss: 0.0033, Val loss: 0.0022\n",
            "EarlyStopping counter: 4 out of 7\n"
          ]
        },
        {
          "output_type": "stream",
          "name": "stderr",
          "text": [
            "Epoch 24 Training: 100%|██████████| 23/23 [00:38<00:00,  1.67s/it]\n",
            "Epoch 24 Validation: 100%|██████████| 6/6 [00:11<00:00,  1.89s/it]\n"
          ]
        },
        {
          "output_type": "stream",
          "name": "stdout",
          "text": [
            "Epoch 24 Train loss: 0.0032, Val loss: 0.0023\n",
            "EarlyStopping counter: 5 out of 7\n"
          ]
        },
        {
          "output_type": "stream",
          "name": "stderr",
          "text": [
            "Epoch 25 Training: 100%|██████████| 23/23 [00:41<00:00,  1.82s/it]\n",
            "Epoch 25 Validation: 100%|██████████| 6/6 [00:11<00:00,  1.84s/it]\n"
          ]
        },
        {
          "output_type": "stream",
          "name": "stdout",
          "text": [
            "Epoch 25 Train loss: 0.0032, Val loss: 0.0023\n",
            "EarlyStopping counter: 6 out of 7\n"
          ]
        },
        {
          "output_type": "stream",
          "name": "stderr",
          "text": [
            "Epoch 26 Training: 100%|██████████| 23/23 [00:38<00:00,  1.69s/it]\n",
            "Epoch 26 Validation: 100%|██████████| 6/6 [00:10<00:00,  1.77s/it]\n"
          ]
        },
        {
          "output_type": "stream",
          "name": "stdout",
          "text": [
            "Epoch 26 Train loss: 0.0031, Val loss: 0.0020\n",
            "Validation loss decreased (0.002059 --> 0.001972).  Saving model ...\n"
          ]
        },
        {
          "output_type": "stream",
          "name": "stderr",
          "text": [
            "Epoch 27 Training: 100%|██████████| 23/23 [00:38<00:00,  1.69s/it]\n",
            "Epoch 27 Validation: 100%|██████████| 6/6 [00:08<00:00,  1.49s/it]\n"
          ]
        },
        {
          "output_type": "stream",
          "name": "stdout",
          "text": [
            "Epoch 27 Train loss: 0.0032, Val loss: 0.0024\n",
            "EarlyStopping counter: 1 out of 7\n"
          ]
        },
        {
          "output_type": "stream",
          "name": "stderr",
          "text": [
            "Epoch 28 Training: 100%|██████████| 23/23 [00:40<00:00,  1.78s/it]\n",
            "Epoch 28 Validation: 100%|██████████| 6/6 [00:07<00:00,  1.30s/it]\n"
          ]
        },
        {
          "output_type": "stream",
          "name": "stdout",
          "text": [
            "Epoch 28 Train loss: 0.0030, Val loss: 0.0018\n",
            "Validation loss decreased (0.001972 --> 0.001846).  Saving model ...\n"
          ]
        },
        {
          "output_type": "stream",
          "name": "stderr",
          "text": [
            "Epoch 29 Training: 100%|██████████| 23/23 [00:41<00:00,  1.80s/it]\n",
            "Epoch 29 Validation: 100%|██████████| 6/6 [00:10<00:00,  1.71s/it]\n"
          ]
        },
        {
          "output_type": "stream",
          "name": "stdout",
          "text": [
            "Epoch 29 Train loss: 0.0030, Val loss: 0.0019\n",
            "EarlyStopping counter: 1 out of 7\n"
          ]
        },
        {
          "output_type": "stream",
          "name": "stderr",
          "text": [
            "Epoch 30 Training: 100%|██████████| 23/23 [00:41<00:00,  1.82s/it]\n",
            "Epoch 30 Validation: 100%|██████████| 6/6 [00:08<00:00,  1.47s/it]\n"
          ]
        },
        {
          "output_type": "stream",
          "name": "stdout",
          "text": [
            "Epoch 30 Train loss: 0.0030, Val loss: 0.0018\n",
            "Validation loss decreased (0.001846 --> 0.001773).  Saving model ...\n"
          ]
        },
        {
          "output_type": "stream",
          "name": "stderr",
          "text": [
            "Epoch 31 Training: 100%|██████████| 23/23 [00:38<00:00,  1.68s/it]\n",
            "Epoch 31 Validation: 100%|██████████| 6/6 [00:10<00:00,  1.73s/it]\n"
          ]
        },
        {
          "output_type": "stream",
          "name": "stdout",
          "text": [
            "Epoch 31 Train loss: 0.0029, Val loss: 0.0020\n",
            "EarlyStopping counter: 1 out of 7\n"
          ]
        },
        {
          "output_type": "stream",
          "name": "stderr",
          "text": [
            "Epoch 32 Training: 100%|██████████| 23/23 [00:38<00:00,  1.69s/it]\n",
            "Epoch 32 Validation: 100%|██████████| 6/6 [00:11<00:00,  1.84s/it]\n"
          ]
        },
        {
          "output_type": "stream",
          "name": "stdout",
          "text": [
            "Epoch 32 Train loss: 0.0029, Val loss: 0.0019\n",
            "EarlyStopping counter: 2 out of 7\n"
          ]
        },
        {
          "output_type": "stream",
          "name": "stderr",
          "text": [
            "Epoch 33 Training: 100%|██████████| 23/23 [00:38<00:00,  1.66s/it]\n",
            "Epoch 33 Validation: 100%|██████████| 6/6 [00:10<00:00,  1.79s/it]\n"
          ]
        },
        {
          "output_type": "stream",
          "name": "stdout",
          "text": [
            "Epoch 33 Train loss: 0.0029, Val loss: 0.0020\n",
            "EarlyStopping counter: 3 out of 7\n"
          ]
        },
        {
          "output_type": "stream",
          "name": "stderr",
          "text": [
            "Epoch 34 Training: 100%|██████████| 23/23 [00:38<00:00,  1.69s/it]\n",
            "Epoch 34 Validation: 100%|██████████| 6/6 [00:10<00:00,  1.72s/it]\n"
          ]
        },
        {
          "output_type": "stream",
          "name": "stdout",
          "text": [
            "Epoch 34 Train loss: 0.0028, Val loss: 0.0018\n",
            "EarlyStopping counter: 4 out of 7\n"
          ]
        },
        {
          "output_type": "stream",
          "name": "stderr",
          "text": [
            "Epoch 35 Training: 100%|██████████| 23/23 [00:42<00:00,  1.86s/it]\n",
            "Epoch 35 Validation: 100%|██████████| 6/6 [00:07<00:00,  1.30s/it]\n"
          ]
        },
        {
          "output_type": "stream",
          "name": "stdout",
          "text": [
            "Epoch 35 Train loss: 0.0028, Val loss: 0.0019\n",
            "EarlyStopping counter: 5 out of 7\n"
          ]
        },
        {
          "output_type": "stream",
          "name": "stderr",
          "text": [
            "Epoch 36 Training: 100%|██████████| 23/23 [00:41<00:00,  1.79s/it]\n",
            "Epoch 36 Validation: 100%|██████████| 6/6 [00:08<00:00,  1.43s/it]\n"
          ]
        },
        {
          "output_type": "stream",
          "name": "stdout",
          "text": [
            "Epoch 36 Train loss: 0.0028, Val loss: 0.0020\n",
            "EarlyStopping counter: 6 out of 7\n"
          ]
        },
        {
          "output_type": "stream",
          "name": "stderr",
          "text": [
            "Epoch 37 Training: 100%|██████████| 23/23 [00:38<00:00,  1.68s/it]\n",
            "Epoch 37 Validation: 100%|██████████| 6/6 [00:10<00:00,  1.79s/it]\n"
          ]
        },
        {
          "output_type": "stream",
          "name": "stdout",
          "text": [
            "Epoch 37 Train loss: 0.0028, Val loss: 0.0018\n",
            "EarlyStopping counter: 7 out of 7\n",
            "Early stopping\n"
          ]
        },
        {
          "output_type": "display_data",
          "data": {
            "text/plain": [
              "<Figure size 640x480 with 1 Axes>"
            ],
            "image/png": "[encoded data removed]"
          },
          "metadata": {}
        },
        {
          "output_type": "stream",
          "name": "stdout",
          "text": [
            "Validation Loss for Machine ID machine_id_04: Mean - 0.010217101823932885, Standard Deviation - 0.02718568618950082\n",
            "Starting training for Machine ID machine_id_06\n"
          ]
        },
        {
          "output_type": "stream",
          "name": "stderr",
          "text": [
            "Epoch 1 Training: 100%|██████████| 23/23 [00:38<00:00,  1.68s/it]\n",
            "Epoch 1 Validation: 100%|██████████| 6/6 [00:10<00:00,  1.80s/it]\n"
          ]
        },
        {
          "output_type": "stream",
          "name": "stdout",
          "text": [
            "Epoch 1 Train loss: 0.0373, Val loss: 0.0248\n",
            "Validation loss decreased (inf --> 0.024822).  Saving model ...\n"
          ]
        },
        {
          "output_type": "stream",
          "name": "stderr",
          "text": [
            "Epoch 2 Training: 100%|██████████| 23/23 [00:38<00:00,  1.66s/it]\n",
            "Epoch 2 Validation: 100%|██████████| 6/6 [00:13<00:00,  2.18s/it]\n"
          ]
        },
        {
          "output_type": "stream",
          "name": "stdout",
          "text": [
            "Epoch 2 Train loss: 0.0223, Val loss: 0.0138\n",
            "Validation loss decreased (0.024822 --> 0.013802).  Saving model ...\n"
          ]
        },
        {
          "output_type": "stream",
          "name": "stderr",
          "text": [
            "Epoch 3 Training: 100%|██████████| 23/23 [00:39<00:00,  1.73s/it]\n",
            "Epoch 3 Validation: 100%|██████████| 6/6 [00:08<00:00,  1.44s/it]\n"
          ]
        },
        {
          "output_type": "stream",
          "name": "stdout",
          "text": [
            "Epoch 3 Train loss: 0.0161, Val loss: 0.0101\n",
            "Validation loss decreased (0.013802 --> 0.010124).  Saving model ...\n"
          ]
        },
        {
          "output_type": "stream",
          "name": "stderr",
          "text": [
            "Epoch 4 Training: 100%|██████████| 23/23 [00:40<00:00,  1.77s/it]\n",
            "Epoch 4 Validation: 100%|██████████| 6/6 [00:07<00:00,  1.30s/it]\n"
          ]
        },
        {
          "output_type": "stream",
          "name": "stdout",
          "text": [
            "Epoch 4 Train loss: 0.0127, Val loss: 0.0108\n",
            "EarlyStopping counter: 1 out of 7\n"
          ]
        },
        {
          "output_type": "stream",
          "name": "stderr",
          "text": [
            "Epoch 5 Training: 100%|██████████| 23/23 [00:41<00:00,  1.81s/it]\n",
            "Epoch 5 Validation: 100%|██████████| 6/6 [00:07<00:00,  1.33s/it]\n"
          ]
        },
        {
          "output_type": "stream",
          "name": "stdout",
          "text": [
            "Epoch 5 Train loss: 0.0107, Val loss: 0.0088\n",
            "Validation loss decreased (0.010124 --> 0.008801).  Saving model ...\n"
          ]
        },
        {
          "output_type": "stream",
          "name": "stderr",
          "text": [
            "Epoch 6 Training: 100%|██████████| 23/23 [00:39<00:00,  1.73s/it]\n",
            "Epoch 6 Validation: 100%|██████████| 6/6 [00:09<00:00,  1.65s/it]\n"
          ]
        },
        {
          "output_type": "stream",
          "name": "stdout",
          "text": [
            "Epoch 6 Train loss: 0.0093, Val loss: 0.0097\n",
            "EarlyStopping counter: 1 out of 7\n"
          ]
        },
        {
          "output_type": "stream",
          "name": "stderr",
          "text": [
            "Epoch 7 Training: 100%|██████████| 23/23 [00:38<00:00,  1.66s/it]\n",
            "Epoch 7 Validation: 100%|██████████| 6/6 [00:14<00:00,  2.41s/it]\n"
          ]
        },
        {
          "output_type": "stream",
          "name": "stdout",
          "text": [
            "Epoch 7 Train loss: 0.0077, Val loss: 0.0066\n",
            "Validation loss decreased (0.008801 --> 0.006600).  Saving model ...\n"
          ]
        },
        {
          "output_type": "stream",
          "name": "stderr",
          "text": [
            "Epoch 8 Training: 100%|██████████| 23/23 [00:38<00:00,  1.67s/it]\n",
            "Epoch 8 Validation: 100%|██████████| 6/6 [00:11<00:00,  1.85s/it]\n"
          ]
        },
        {
          "output_type": "stream",
          "name": "stdout",
          "text": [
            "Epoch 8 Train loss: 0.0062, Val loss: 0.0068\n",
            "EarlyStopping counter: 1 out of 7\n"
          ]
        },
        {
          "output_type": "stream",
          "name": "stderr",
          "text": [
            "Epoch 9 Training: 100%|██████████| 23/23 [00:38<00:00,  1.68s/it]\n",
            "Epoch 9 Validation: 100%|██████████| 6/6 [00:10<00:00,  1.82s/it]\n"
          ]
        },
        {
          "output_type": "stream",
          "name": "stdout",
          "text": [
            "Epoch 9 Train loss: 0.0052, Val loss: 0.0050\n",
            "Validation loss decreased (0.006600 --> 0.004964).  Saving model ...\n"
          ]
        },
        {
          "output_type": "stream",
          "name": "stderr",
          "text": [
            "Epoch 10 Training: 100%|██████████| 23/23 [00:38<00:00,  1.68s/it]\n",
            "Epoch 10 Validation: 100%|██████████| 6/6 [00:09<00:00,  1.51s/it]\n"
          ]
        },
        {
          "output_type": "stream",
          "name": "stdout",
          "text": [
            "Epoch 10 Train loss: 0.0051, Val loss: 0.0127\n",
            "EarlyStopping counter: 1 out of 7\n"
          ]
        },
        {
          "output_type": "stream",
          "name": "stderr",
          "text": [
            "Epoch 11 Training: 100%|██████████| 23/23 [00:40<00:00,  1.77s/it]\n",
            "Epoch 11 Validation: 100%|██████████| 6/6 [00:07<00:00,  1.28s/it]\n"
          ]
        },
        {
          "output_type": "stream",
          "name": "stdout",
          "text": [
            "Epoch 11 Train loss: 0.0046, Val loss: 0.0032\n",
            "Validation loss decreased (0.004964 --> 0.003201).  Saving model ...\n"
          ]
        },
        {
          "output_type": "stream",
          "name": "stderr",
          "text": [
            "Epoch 12 Training: 100%|██████████| 23/23 [00:41<00:00,  1.79s/it]\n",
            "Epoch 12 Validation: 100%|██████████| 6/6 [00:11<00:00,  1.88s/it]\n"
          ]
        },
        {
          "output_type": "stream",
          "name": "stdout",
          "text": [
            "Epoch 12 Train loss: 0.0042, Val loss: 0.0036\n",
            "EarlyStopping counter: 1 out of 7\n"
          ]
        },
        {
          "output_type": "stream",
          "name": "stderr",
          "text": [
            "Epoch 13 Training: 100%|██████████| 23/23 [00:41<00:00,  1.80s/it]\n",
            "Epoch 13 Validation: 100%|██████████| 6/6 [00:07<00:00,  1.29s/it]\n"
          ]
        },
        {
          "output_type": "stream",
          "name": "stdout",
          "text": [
            "Epoch 13 Train loss: 0.0038, Val loss: 0.0034\n",
            "EarlyStopping counter: 2 out of 7\n"
          ]
        },
        {
          "output_type": "stream",
          "name": "stderr",
          "text": [
            "Epoch 14 Training: 100%|██████████| 23/23 [00:41<00:00,  1.81s/it]\n",
            "Epoch 14 Validation: 100%|██████████| 6/6 [00:08<00:00,  1.36s/it]\n"
          ]
        },
        {
          "output_type": "stream",
          "name": "stdout",
          "text": [
            "Epoch 14 Train loss: 0.0037, Val loss: 0.0035\n",
            "EarlyStopping counter: 3 out of 7\n"
          ]
        },
        {
          "output_type": "stream",
          "name": "stderr",
          "text": [
            "Epoch 15 Training: 100%|██████████| 23/23 [00:40<00:00,  1.77s/it]\n",
            "Epoch 15 Validation: 100%|██████████| 6/6 [00:09<00:00,  1.54s/it]\n"
          ]
        },
        {
          "output_type": "stream",
          "name": "stdout",
          "text": [
            "Epoch 15 Train loss: 0.0036, Val loss: 0.0034\n",
            "EarlyStopping counter: 4 out of 7\n"
          ]
        },
        {
          "output_type": "stream",
          "name": "stderr",
          "text": [
            "Epoch 16 Training: 100%|██████████| 23/23 [00:38<00:00,  1.69s/it]\n",
            "Epoch 16 Validation: 100%|██████████| 6/6 [00:11<00:00,  1.84s/it]\n"
          ]
        },
        {
          "output_type": "stream",
          "name": "stdout",
          "text": [
            "Epoch 16 Train loss: 0.0035, Val loss: 0.0028\n",
            "Validation loss decreased (0.003201 --> 0.002767).  Saving model ...\n"
          ]
        },
        {
          "output_type": "stream",
          "name": "stderr",
          "text": [
            "Epoch 17 Training: 100%|██████████| 23/23 [00:38<00:00,  1.68s/it]\n",
            "Epoch 17 Validation: 100%|██████████| 6/6 [00:13<00:00,  2.27s/it]\n"
          ]
        },
        {
          "output_type": "stream",
          "name": "stdout",
          "text": [
            "Epoch 17 Train loss: 0.0034, Val loss: 0.0028\n",
            "EarlyStopping counter: 1 out of 7\n"
          ]
        },
        {
          "output_type": "stream",
          "name": "stderr",
          "text": [
            "Epoch 18 Training: 100%|██████████| 23/23 [00:39<00:00,  1.71s/it]\n",
            "Epoch 18 Validation: 100%|██████████| 6/6 [00:10<00:00,  1.78s/it]\n"
          ]
        },
        {
          "output_type": "stream",
          "name": "stdout",
          "text": [
            "Epoch 18 Train loss: 0.0033, Val loss: 0.0032\n",
            "EarlyStopping counter: 2 out of 7\n"
          ]
        },
        {
          "output_type": "stream",
          "name": "stderr",
          "text": [
            "Epoch 19 Training: 100%|██████████| 23/23 [00:38<00:00,  1.66s/it]\n",
            "Epoch 19 Validation: 100%|██████████| 6/6 [00:10<00:00,  1.82s/it]\n"
          ]
        },
        {
          "output_type": "stream",
          "name": "stdout",
          "text": [
            "Epoch 19 Train loss: 0.0032, Val loss: 0.0026\n",
            "Validation loss decreased (0.002767 --> 0.002562).  Saving model ...\n"
          ]
        },
        {
          "output_type": "stream",
          "name": "stderr",
          "text": [
            "Epoch 20 Training: 100%|██████████| 23/23 [00:38<00:00,  1.66s/it]\n",
            "Epoch 20 Validation: 100%|██████████| 6/6 [00:11<00:00,  1.84s/it]\n"
          ]
        },
        {
          "output_type": "stream",
          "name": "stdout",
          "text": [
            "Epoch 20 Train loss: 0.0031, Val loss: 0.0029\n",
            "EarlyStopping counter: 1 out of 7\n"
          ]
        },
        {
          "output_type": "stream",
          "name": "stderr",
          "text": [
            "Epoch 21 Training: 100%|██████████| 23/23 [00:38<00:00,  1.66s/it]\n",
            "Epoch 21 Validation: 100%|██████████| 6/6 [00:09<00:00,  1.64s/it]\n"
          ]
        },
        {
          "output_type": "stream",
          "name": "stdout",
          "text": [
            "Epoch 21 Train loss: 0.0031, Val loss: 0.0036\n",
            "EarlyStopping counter: 2 out of 7\n"
          ]
        },
        {
          "output_type": "stream",
          "name": "stderr",
          "text": [
            "Epoch 22 Training: 100%|██████████| 23/23 [00:39<00:00,  1.72s/it]\n",
            "Epoch 22 Validation: 100%|██████████| 6/6 [00:08<00:00,  1.34s/it]\n"
          ]
        },
        {
          "output_type": "stream",
          "name": "stdout",
          "text": [
            "Epoch 22 Train loss: 0.0030, Val loss: 0.0032\n",
            "EarlyStopping counter: 3 out of 7\n"
          ]
        },
        {
          "output_type": "stream",
          "name": "stderr",
          "text": [
            "Epoch 23 Training: 100%|██████████| 23/23 [00:44<00:00,  1.95s/it]\n",
            "Epoch 23 Validation: 100%|██████████| 6/6 [00:07<00:00,  1.30s/it]\n"
          ]
        },
        {
          "output_type": "stream",
          "name": "stdout",
          "text": [
            "Epoch 23 Train loss: 0.0030, Val loss: 0.0025\n",
            "Validation loss decreased (0.002562 --> 0.002521).  Saving model ...\n"
          ]
        },
        {
          "output_type": "stream",
          "name": "stderr",
          "text": [
            "Epoch 24 Training: 100%|██████████| 23/23 [00:40<00:00,  1.76s/it]\n",
            "Epoch 24 Validation: 100%|██████████| 6/6 [00:08<00:00,  1.48s/it]\n"
          ]
        },
        {
          "output_type": "stream",
          "name": "stdout",
          "text": [
            "Epoch 24 Train loss: 0.0029, Val loss: 0.0023\n",
            "Validation loss decreased (0.002521 --> 0.002285).  Saving model ...\n"
          ]
        },
        {
          "output_type": "stream",
          "name": "stderr",
          "text": [
            "Epoch 25 Training: 100%|██████████| 23/23 [00:38<00:00,  1.68s/it]\n",
            "Epoch 25 Validation: 100%|██████████| 6/6 [00:10<00:00,  1.78s/it]\n"
          ]
        },
        {
          "output_type": "stream",
          "name": "stdout",
          "text": [
            "Epoch 25 Train loss: 0.0029, Val loss: 0.0362\n",
            "EarlyStopping counter: 1 out of 7\n"
          ]
        },
        {
          "output_type": "stream",
          "name": "stderr",
          "text": [
            "Epoch 26 Training: 100%|██████████| 23/23 [00:38<00:00,  1.67s/it]\n",
            "Epoch 26 Validation: 100%|██████████| 6/6 [00:11<00:00,  1.84s/it]\n"
          ]
        },
        {
          "output_type": "stream",
          "name": "stdout",
          "text": [
            "Epoch 26 Train loss: 0.0028, Val loss: 0.0140\n",
            "EarlyStopping counter: 2 out of 7\n"
          ]
        },
        {
          "output_type": "stream",
          "name": "stderr",
          "text": [
            "Epoch 27 Training: 100%|██████████| 23/23 [00:38<00:00,  1.66s/it]\n",
            "Epoch 27 Validation: 100%|██████████| 6/6 [00:11<00:00,  1.85s/it]\n"
          ]
        },
        {
          "output_type": "stream",
          "name": "stdout",
          "text": [
            "Epoch 27 Train loss: 0.0027, Val loss: 0.0027\n",
            "EarlyStopping counter: 3 out of 7\n"
          ]
        },
        {
          "output_type": "stream",
          "name": "stderr",
          "text": [
            "Epoch 28 Training: 100%|██████████| 23/23 [00:41<00:00,  1.81s/it]\n",
            "Epoch 28 Validation: 100%|██████████| 6/6 [00:10<00:00,  1.80s/it]\n"
          ]
        },
        {
          "output_type": "stream",
          "name": "stdout",
          "text": [
            "Epoch 28 Train loss: 0.0028, Val loss: 0.0021\n",
            "Validation loss decreased (0.002285 --> 0.002141).  Saving model ...\n"
          ]
        },
        {
          "output_type": "stream",
          "name": "stderr",
          "text": [
            "Epoch 29 Training: 100%|██████████| 23/23 [00:38<00:00,  1.65s/it]\n",
            "Epoch 29 Validation: 100%|██████████| 6/6 [00:08<00:00,  1.47s/it]\n"
          ]
        },
        {
          "output_type": "stream",
          "name": "stdout",
          "text": [
            "Epoch 29 Train loss: 0.0028, Val loss: 0.0030\n",
            "EarlyStopping counter: 1 out of 7\n"
          ]
        },
        {
          "output_type": "stream",
          "name": "stderr",
          "text": [
            "Epoch 30 Training: 100%|██████████| 23/23 [00:40<00:00,  1.76s/it]\n",
            "Epoch 30 Validation: 100%|██████████| 6/6 [00:07<00:00,  1.30s/it]\n"
          ]
        },
        {
          "output_type": "stream",
          "name": "stdout",
          "text": [
            "Epoch 30 Train loss: 0.0027, Val loss: 0.0025\n",
            "EarlyStopping counter: 2 out of 7\n"
          ]
        },
        {
          "output_type": "stream",
          "name": "stderr",
          "text": [
            "Epoch 31 Training: 100%|██████████| 23/23 [00:41<00:00,  1.82s/it]\n",
            "Epoch 31 Validation: 100%|██████████| 6/6 [00:07<00:00,  1.29s/it]\n"
          ]
        },
        {
          "output_type": "stream",
          "name": "stdout",
          "text": [
            "Epoch 31 Train loss: 0.0027, Val loss: 0.0023\n",
            "EarlyStopping counter: 3 out of 7\n"
          ]
        },
        {
          "output_type": "stream",
          "name": "stderr",
          "text": [
            "Epoch 32 Training: 100%|██████████| 23/23 [00:40<00:00,  1.76s/it]\n",
            "Epoch 32 Validation: 100%|██████████| 6/6 [00:08<00:00,  1.47s/it]\n"
          ]
        },
        {
          "output_type": "stream",
          "name": "stdout",
          "text": [
            "Epoch 32 Train loss: 0.0026, Val loss: 0.0026\n",
            "EarlyStopping counter: 4 out of 7\n"
          ]
        },
        {
          "output_type": "stream",
          "name": "stderr",
          "text": [
            "Epoch 33 Training: 100%|██████████| 23/23 [00:43<00:00,  1.90s/it]\n",
            "Epoch 33 Validation: 100%|██████████| 6/6 [00:08<00:00,  1.47s/it]\n"
          ]
        },
        {
          "output_type": "stream",
          "name": "stdout",
          "text": [
            "Epoch 33 Train loss: 0.0027, Val loss: 0.0022\n",
            "EarlyStopping counter: 5 out of 7\n"
          ]
        },
        {
          "output_type": "stream",
          "name": "stderr",
          "text": [
            "Epoch 34 Training: 100%|██████████| 23/23 [00:38<00:00,  1.66s/it]\n",
            "Epoch 34 Validation: 100%|██████████| 6/6 [00:10<00:00,  1.81s/it]\n"
          ]
        },
        {
          "output_type": "stream",
          "name": "stdout",
          "text": [
            "Epoch 34 Train loss: 0.0026, Val loss: 0.0035\n",
            "EarlyStopping counter: 6 out of 7\n"
          ]
        },
        {
          "output_type": "stream",
          "name": "stderr",
          "text": [
            "Epoch 35 Training: 100%|██████████| 23/23 [00:38<00:00,  1.67s/it]\n",
            "Epoch 35 Validation: 100%|██████████| 6/6 [00:10<00:00,  1.83s/it]\n"
          ]
        },
        {
          "output_type": "stream",
          "name": "stdout",
          "text": [
            "Epoch 35 Train loss: 0.0025, Val loss: 0.0022\n",
            "EarlyStopping counter: 7 out of 7\n",
            "Early stopping\n"
          ]
        },
        {
          "output_type": "display_data",
          "data": {
            "text/plain": [
              "<Figure size 640x480 with 1 Axes>"
            ],
            "image/png": "[encoded data removed]"
          },
          "metadata": {}
        },
        {
          "output_type": "stream",
          "name": "stdout",
          "text": [
            "Validation Loss for Machine ID machine_id_06: Mean - 0.00644324429200164, Standard Deviation - 0.007013215145511093\n"
          ]
        }
      ]
    },
    {
      "cell_type": "code",
      "source": [
        "# import os\n",
        "# import pickle\n",
        "\n",
        "# results_dir = '/content/drive/My Drive/Capstone_Project/DCASE_challenge/fan/results'\n",
        "\n",
        "# # results 디렉토리가 없으면 생성\n",
        "# if not os.path.exists(results_dir):\n",
        "#     os.makedirs(results_dir)\n",
        "\n",
        "# for machine_id in machine_ids:\n",
        "#     # 해당 machine_id의 train 데이터셋에서 min_val과 max_val 계산\n",
        "#     train_files = [os.path.join(train_data_path, machine_id, 'train', file)\n",
        "#                    for file in os.listdir(os.path.join(train_data_path, machine_id, 'train'))]\n",
        "#     temp_dataset = AudioDataset(train_files)\n",
        "#     min_val, max_val = temp_dataset.calculate_min_max_values()\n",
        "\n",
        "#     # min_val과 max_val을 파일에 저장\n",
        "#     min_max_file_path = os.path.join(results_dir, f'min_max_values_{machine_id}.pkl')\n",
        "#     with open(min_max_file_path, 'wb') as f:\n",
        "#         pickle.dump({'min_val': min_val, 'max_val': max_val}, f)\n"
      ],
      "metadata": {
        "id": "mcMWImnhhNWl"
      },
      "execution_count": null,
      "outputs": []
    },
    {
      "cell_type": "code",
      "source": [
        "#  Test code"
      ],
      "metadata": {
        "id": "NmSN4QxcrLcy"
      },
      "execution_count": null,
      "outputs": []
    },
    {
      "cell_type": "code",
      "execution_count": null,
      "metadata": {
        "id": "C7hokzjx5zYV"
      },
      "outputs": [],
      "source": [
        "class Test_AudioDataset(Dataset):\n",
        "    def __init__(self, file_paths, min_val=min_val, max_val=max_val, alpha=1.0, is_test=True):\n",
        "        self.file_paths = file_paths\n",
        "        self.min_val = min_val\n",
        "        self.max_val = max_val\n",
        "        self.alpha = alpha\n",
        "        self.is_test = is_test  # 테스트 데이터셋인지 여부\n",
        "\n",
        "        # min_val과 max_val이 제공되지 않았을 경우, 전체 데이터셋에서 계산\n",
        "        # if self.min_val is None or self.max_val is None:\n",
        "        #     self.min_val, self.max_val = self.calculate_min_max_values()\n",
        "\n",
        "\n",
        "    def __len__(self):\n",
        "        return len(self.file_paths)\n",
        "\n",
        "    def __getitem__(self, idx):\n",
        "        file_path = self.file_paths[idx]\n",
        "        x = self.process_file(file_path)\n",
        "        machine_id = file_path.split('/')[-3]\n",
        "\n",
        "        # 테스트 데이터셋인 경우에만 라벨을 생성\n",
        "        if self.is_test:\n",
        "          label = 1 if 'anomaly' in file_path.split('/')[-1].split('_')[0] else 0\n",
        "          return x, label, machine_id\n",
        "        else:\n",
        "          return x, machine_id\n",
        "\n",
        "\n",
        "        # if self.is_test:\n",
        "        #     label = 1 if 'anomaly' in file_path.split('/')[-1].split('_')[0] else 0\n",
        "        #     return x, label\n",
        "        # else:\n",
        "        #     return x\n",
        "\n",
        "    def process_file(self, file_path):\n",
        "        # 오디오 파일 로드 및 스펙트로그램 생성\n",
        "        y, sr = librosa.load(file_path, sr=None)\n",
        "        S = librosa.feature.melspectrogram(y=y, sr=sr, n_mels=128)\n",
        "        log_S = librosa.power_to_db(S, ref=np.max)\n",
        "\n",
        "        # 정규화\n",
        "        normalized_log_S = (log_S - self.min_val) / (self.max_val - self.min_val)\n",
        "\n",
        "        # PyTorch Tensor로 변환\n",
        "        normalized_log_S_tensor = torch.tensor(normalized_log_S, dtype=torch.float32)\n",
        "        return normalized_log_S_tensor\n",
        "\n",
        "\n"
      ]
    },
    {
      "cell_type": "code",
      "source": [
        "len(test_files)"
      ],
      "metadata": {
        "colab": {
          "base_uri": "https://localhost:8080/"
        },
        "id": "Asvb9ceSoNyN",
        "outputId": "da41530a-44d1-432a-e43f-1d251aeec824"
      },
      "execution_count": null,
      "outputs": [
        {
          "output_type": "execute_result",
          "data": {
            "text/plain": [
              "480"
            ]
          },
          "metadata": {},
          "execution_count": 17
        }
      ]
    },
    {
      "cell_type": "code",
      "source": [
        "\n",
        "test_data_path = '/content/drive/My Drive/Capstone_Project/DCASE_challenge/fan/train/'\n",
        "\n",
        "machine_ids = ['machine_id_00', 'machine_id_02', 'machine_id_04', 'machine_id_06']  # 사용할 모든 machine_id 리스트\n",
        "test_files = []\n",
        "\n",
        "for mid in machine_ids:\n",
        "    # 경로를 올바르게 설정합니다.\n",
        "    test_dir = os.path.join(test_data_path, mid, 'test')\n",
        "    if os.path.isdir(test_dir):  # 디렉토리가 존재하는지 확인\n",
        "        test_files.extend(\n",
        "            [os.path.join(test_dir, file) for file in os.listdir(test_dir) if os.path.isfile(os.path.join(test_dir, file))]\n",
        "        )\n",
        "    else:\n",
        "        print(f\"Directory not found: {test_dir}\")\n",
        "\n",
        "\n",
        "# 테스트 데이터셋 인스턴스 생성\n",
        "test_dataset = Test_AudioDataset(file_paths=test_files, min_val=min_val, max_val=max_val)\n",
        "\n",
        "\n",
        "# DataLoader 설정\n",
        "batch_size = 4  # 필요에 따라 배치 크기 조정\n",
        "shuffle = False  # 테스트 데이터셋에서는 일반적으로 셔플을 사용하지 않음\n",
        "\n",
        "test_loader = DataLoader(test_dataset, batch_size=batch_size, shuffle=shuffle)\n"
      ],
      "metadata": {
        "id": "wB7Yr1tKxJRt"
      },
      "execution_count": null,
      "outputs": []
    },
    {
      "cell_type": "code",
      "source": [
        "# 데이터셋 인스턴스 생성 예시\n",
        "dataset = Test_AudioDataset(file_paths=test_files)\n",
        "\n",
        "# 첫 번째 샘플 로드 및 검사\n",
        "x, label, machine_id = dataset[0]\n",
        "print(f\"Machine ID: {machine_id}, Label: {label}\")\n",
        "print(x.shape)\n"
      ],
      "metadata": {
        "colab": {
          "base_uri": "https://localhost:8080/"
        },
        "id": "dc6Az6WkvVwv",
        "outputId": "157571b7-ab32-4647-9efe-bff7c9b5100a"
      },
      "execution_count": null,
      "outputs": [
        {
          "output_type": "stream",
          "name": "stdout",
          "text": [
            "Machine ID: machine_id_06, Label: 0\n",
            "torch.Size([128, 313])\n"
          ]
        }
      ]
    },
    {
      "cell_type": "code",
      "source": [
        "model = Autoencoder()  # 예시 모델 구조\n",
        "model_path = '/content/drive/My Drive/Capstone_Project/DCASE_challenge/fan/model_machine_id_00.pt'  # 예시 파일 경로\n",
        "model.load_state_dict(torch.load(model_path))\n"
      ],
      "metadata": {
        "colab": {
          "base_uri": "https://localhost:8080/"
        },
        "id": "xXgbkJZgxyD2",
        "outputId": "522b51cb-676f-4e6a-b277-f3ea33da3595"
      },
      "execution_count": null,
      "outputs": [
        {
          "output_type": "execute_result",
          "data": {
            "text/plain": [
              "<All keys matched successfully>"
            ]
          },
          "metadata": {},
          "execution_count": 30
        }
      ]
    },
    {
      "cell_type": "code",
      "source": [
        "import os\n",
        "\n",
        "# 해당 디렉토리의 파일 목록을 출력합니다.\n",
        "print(os.listdir('/content/drive/My Drive/Capstone_Project/DCASE_challenge/fan/train'))\n"
      ],
      "metadata": {
        "colab": {
          "base_uri": "https://localhost:8080/"
        },
        "id": "QovIJa4Gycji",
        "outputId": "74491544-631f-42fe-e7e8-8457b1e5d7db"
      },
      "execution_count": null,
      "outputs": [
        {
          "output_type": "stream",
          "name": "stdout",
          "text": [
            "['machine_id_00', 'machine_id_02', 'machine_id_04', 'machine_id_06']\n"
          ]
        }
      ]
    },
    {
      "cell_type": "code",
      "source": [
        "# 전체 경로와 함께 파일 및 디렉토리 목록을 출력합니다.\n",
        "directory_path = '/content/drive/My Drive/Capstone_Project/DCASE_challenge/fan'\n",
        "files_and_directories = [os.path.join(directory_path, f) for f in os.listdir(directory_path)]\n",
        "\n",
        "print(files_and_directories, sep='\\n')\n"
      ],
      "metadata": {
        "colab": {
          "base_uri": "https://localhost:8080/"
        },
        "id": "7v1q9mCXy9C1",
        "outputId": "9526bc8b-1f3d-4bb7-fb16-aeb5aa2116a3"
      },
      "execution_count": null,
      "outputs": [
        {
          "output_type": "stream",
          "name": "stdout",
          "text": [
            "['/content/drive/My Drive/Capstone_Project/DCASE_challenge/fan/test', '/content/drive/My Drive/Capstone_Project/DCASE_challenge/fan/train', '/content/drive/My Drive/Capstone_Project/DCASE_challenge/fan/backup', '/content/drive/My Drive/Capstone_Project/DCASE_challenge/fan/model_machine_id_00_fold_1.pt', '/content/drive/My Drive/Capstone_Project/DCASE_challenge/fan/model_machine_id_00.pt', '/content/drive/My Drive/Capstone_Project/DCASE_challenge/fan/model_machine_id_02.pt', '/content/drive/My Drive/Capstone_Project/DCASE_challenge/fan/model_machine_id_04.pt', '/content/drive/My Drive/Capstone_Project/DCASE_challenge/fan/results', '/content/drive/My Drive/Capstone_Project/DCASE_challenge/fan/model_machine_id_06.pt']\n"
          ]
        }
      ]
    },
    {
      "cell_type": "code",
      "source": [
        "# 파일 목록에서 실제 파일만 필터링합니다.\n",
        "files = [f for f in files_and_directories if os.path.isfile(f)]\n",
        "\n",
        "print(files)\n"
      ],
      "metadata": {
        "colab": {
          "base_uri": "https://localhost:8080/"
        },
        "id": "iqC_Dlu-y9N6",
        "outputId": "d729e810-edf3-45b4-cf64-013e83ffc96d"
      },
      "execution_count": null,
      "outputs": [
        {
          "output_type": "stream",
          "name": "stdout",
          "text": [
            "['/content/drive/My Drive/Capstone_Project/DCASE_challenge/fan/model_machine_id_00_fold_1.pt', '/content/drive/My Drive/Capstone_Project/DCASE_challenge/fan/model_machine_id_00.pt', '/content/drive/My Drive/Capstone_Project/DCASE_challenge/fan/model_machine_id_02.pt', '/content/drive/My Drive/Capstone_Project/DCASE_challenge/fan/model_machine_id_04.pt', '/content/drive/My Drive/Capstone_Project/DCASE_challenge/fan/model_machine_id_06.pt']\n"
          ]
        }
      ]
    },
    {
      "cell_type": "code",
      "source": [
        "!ls -l \"/content/drive/My Drive/Capstone_Project/DCASE_challenge/fan/train\"\n"
      ],
      "metadata": {
        "colab": {
          "base_uri": "https://localhost:8080/"
        },
        "id": "GeEN1cQNz2_2",
        "outputId": "30925d12-ef1d-40ea-9fe8-5ba36b6e2ac2"
      },
      "execution_count": null,
      "outputs": [
        {
          "output_type": "stream",
          "name": "stdout",
          "text": [
            "total 16\n",
            "drwx------ 4 root root 4096 Dec  6 02:27 machine_id_00\n",
            "drwx------ 4 root root 4096 Dec  6 02:27 machine_id_02\n",
            "drwx------ 4 root root 4096 Dec  6 02:27 machine_id_04\n",
            "drwx------ 4 root root 4096 Dec  6 02:27 machine_id_06\n"
          ]
        }
      ]
    },
    {
      "cell_type": "code",
      "source": [
        "machine_id_metrics = {}\n",
        "for machine_id in machine_ids:\n",
        "    # 모델 인스턴스 생성 및 파라미터 로드\n",
        "    model = Autoencoder()\n",
        "    model_path = f'/content/drive/My Drive/Capstone_Project/DCASE_challenge/fan/model_machine_id_00.pt'\n",
        "    model.load_state_dict(torch.load(model_path))\n",
        "    model.to(device)\n",
        "    model.eval()"
      ],
      "metadata": {
        "id": "kNvyjG0r1pLo"
      },
      "execution_count": null,
      "outputs": []
    },
    {
      "cell_type": "code",
      "source": [
        "machine_id_loss_stats = {'machine_id_00':(0.0085482866316120,0.008348092202628627),\n",
        "                         'machine_id_02':( 0.003994531273333864, 0.002180829094738874),\n",
        "                         'machine_id_04':(0.010217101823932885,0.02718568618950082 ),\n",
        "                         'machine_id_06':(0.00644324429200164,0.007013215145511093 )}\n",
        "\n",
        "# 임계값 계산 로직을 machine_id별로 처리\n",
        "def calculate_thresholds(machine_id_loss_stats):\n",
        "    thresholds = {}\n",
        "    for machine_id, stats in machine_id_loss_stats.items():\n",
        "        val_loss_mean, val_loss_std = stats\n",
        "        thresholds[machine_id] = val_loss_mean + 2 * val_loss_std\n",
        "    return thresholds"
      ],
      "metadata": {
        "id": "NRUd-8EB1pUZ"
      },
      "execution_count": null,
      "outputs": []
    },
    {
      "cell_type": "code",
      "source": [
        "thresholds = calculate_thresholds(machine_id_loss_stats)\n",
        "print(thresholds)"
      ],
      "metadata": {
        "colab": {
          "base_uri": "https://localhost:8080/"
        },
        "id": "qN_HXPB21pP-",
        "outputId": "5ec86a44-3330-4ae6-93c7-41fd4af77327"
      },
      "execution_count": null,
      "outputs": [
        {
          "output_type": "stream",
          "name": "stdout",
          "text": [
            "{'machine_id_00': 0.025244471036869255, 'machine_id_02': 0.008356189462811612, 'machine_id_04': 0.06458847420293452, 'machine_id_06': 0.020469674583023827}\n"
          ]
        }
      ]
    },
    {
      "cell_type": "code",
      "source": [
        "import torch\n",
        "import numpy as np\n",
        "from sklearn.metrics import roc_auc_score, precision_recall_fscore_support\n",
        "from sklearn.metrics import precision_recall_curve, auc\n",
        "\n",
        "# # machine_id별로 val_loss_mean, val_loss_std 계산 (예시)\n",
        "\n",
        "# machine_id_loss_stats = {'machine_id_00':(0.0085482866316120,0.008348092202628627),\n",
        "#                          'machine_id_02':( 0.003994531273333864, 0.002180829094738874),\n",
        "#                          'machine_id_04':(0.010217101823932885,0.02718568618950082 ),\n",
        "#                          'machine_id_06':(0.00644324429200164,0.007013215145511093 )}\n",
        "\n",
        "# # 임계값 계산 로직을 machine_id별로 처리\n",
        "# def calculate_thresholds(machine_id_loss_stats):\n",
        "#     thresholds = {}\n",
        "#     for machine_id, stats in machine_id_loss_stats.items():\n",
        "#         val_loss_mean, val_loss_std = stats\n",
        "#         thresholds[machine_id] = val_loss_mean + 3 * val_loss_std\n",
        "#     return thresholds\n",
        "\n",
        "\n",
        "\n",
        "def calculate_prauc(y_true, y_scores):\n",
        "    \"\"\"\n",
        "    PR AUC를 계산하는 함수입니다.\n",
        "    :param y_true: 실제 라벨의 리스트\n",
        "    :param y_scores: 모델이 예측한 점수의 리스트\n",
        "    :return: PR AUC 값\n",
        "    \"\"\"\n",
        "    precision, recall, _ = precision_recall_curve(y_true, y_scores)\n",
        "    pr_auc = auc(recall, precision)\n",
        "    return pr_auc\n",
        "\n",
        "\n",
        "\n",
        "# 성능 평가 함수\n",
        "def evaluate_model(model, loader, thresholds):\n",
        "    results = {machine_id: {'y_true': [], 'y_scores': [], 'y_pred': []} for machine_id in thresholds.keys()}\n",
        "\n",
        "    with torch.no_grad():\n",
        "        for data in loader:\n",
        "            mixed_x, label, machine_ids = data\n",
        "            mixed_x = mixed_x.to(device)  # 전체 배치를 한 번에 장치로 이동\n",
        "\n",
        "            for i in range(len(mixed_x)):\n",
        "                single_x = mixed_x[i]\n",
        "                if single_x.dim() == 2:\n",
        "                    single_x = single_x.unsqueeze(0).unsqueeze(0)\n",
        "                single_x = single_x.to(device)\n",
        "                # print(\"mixed_x의 모양:\", mixed_x.shape)\n",
        "\n",
        "                  # 배치 차원 추가\n",
        "                single_label = label[i]\n",
        "                machine_id = machine_ids[i]\n",
        "                # print(f\"Current machine_id: {machine_id}\")  # 디버그 출력\n",
        "                threshold = thresholds[machine_id]\n",
        "\n",
        "                output = model(single_x)\n",
        "                loss = torch.nn.functional.mse_loss(output, single_x, reduction='none')\n",
        "                loss = loss.mean().item()  # 항목으로 변환\n",
        "\n",
        "                results[machine_id]['y_true'].append(single_label.cpu().item())\n",
        "                results[machine_id]['y_scores'].append(loss)\n",
        "                results[machine_id]['y_pred'].append(1 if loss > threshold else 0)\n",
        "\n",
        "    # 각 machine_id별로 성능 지표 계산\n",
        "    machine_id_metrics = {}\n",
        "    for machine_id, data in results.items():\n",
        "        if len(data['y_true']) > 0 and len(data['y_pred']) > 0:  # 데이터가 있는 경우에만 계산\n",
        "            precision, recall, f1, _ = precision_recall_fscore_support(\n",
        "                data['y_true'], data['y_pred'], average='binary', zero_division=1)\n",
        "            auc_score = roc_auc_score(data['y_true'], data['y_scores'])\n",
        "            pr_auc = calculate_prauc(data['y_true'], data['y_scores'])\n",
        "\n",
        "            machine_id_metrics[machine_id] = {\n",
        "            'Precision': precision,\n",
        "            'Recall': recall,\n",
        "            'F1 Score': f1,\n",
        "            'AUC': auc_score,\n",
        "            'pAUC': pr_auc  # 추가된 부분\n",
        "        }\n",
        "        else:\n",
        "            print(f\"No data for machine ID {machine_id}. Skipping...\")\n",
        "            machine_id_metrics[machine_id] = {\n",
        "                'Precision': None, 'Recall': None, 'F1 Score': None, 'AUC': None\n",
        "            }\n",
        "\n",
        "    return machine_id_metrics\n",
        "\n",
        "# 성능 평가 및 결과 출력\n",
        "machine_id_metrics = evaluate_model(model, test_loader, thresholds)\n",
        "for machine_id, metrics in machine_id_metrics.items():\n",
        "    print(f\"Machine ID: {machine_id}, Metrics: {metrics}\")\n"
      ],
      "metadata": {
        "colab": {
          "base_uri": "https://localhost:8080/"
        },
        "id": "WgKSFNeprS4R",
        "outputId": "5bd379ba-2134-4e8a-ffd6-0e7c63aa148b"
      },
      "execution_count": null,
      "outputs": [
        {
          "output_type": "stream",
          "name": "stdout",
          "text": [
            "Machine ID: machine_id_00, Metrics: {'Precision': 1.0, 'Recall': 0.0, 'F1 Score': 0.0, 'AUC': 0.5325, 'PR AUC': 0.1880434935213059}\n",
            "Machine ID: machine_id_02, Metrics: {'Precision': 0.25, 'Recall': 0.3, 'F1 Score': 0.2727272727272727, 'AUC': 0.649, 'PR AUC': 0.3348459439074656}\n",
            "Machine ID: machine_id_04, Metrics: {'Precision': 1.0, 'Recall': 0.0, 'F1 Score': 0.0, 'AUC': 0.48749999999999993, 'PR AUC': 0.15656991735528286}\n",
            "Machine ID: machine_id_06, Metrics: {'Precision': 1.0, 'Recall': 0.0, 'F1 Score': 0.0, 'AUC': 0.611, 'PR AUC': 0.19733780475926774}\n"
          ]
        }
      ]
    },
    {
      "cell_type": "code",
      "source": [],
      "metadata": {
        "id": "0KkcYq0zrP8E"
      },
      "execution_count": null,
      "outputs": []
    },
    {
      "cell_type": "code",
      "source": [],
      "metadata": {
        "id": "UuVQ46HWrPWF"
      },
      "execution_count": null,
      "outputs": []
    },
    {
      "cell_type": "code",
      "source": [
        "test_loader"
      ],
      "metadata": {
        "colab": {
          "base_uri": "https://localhost:8080/"
        },
        "id": "1olnXtvUmFwf",
        "outputId": "f08f6828-54b8-4a86-ebe7-989be9ac0114"
      },
      "execution_count": null,
      "outputs": [
        {
          "output_type": "execute_result",
          "data": {
            "text/plain": [
              "<torch.utils.data.dataloader.DataLoader at 0x7d98da1c3fd0>"
            ]
          },
          "metadata": {},
          "execution_count": 21
        }
      ]
    },
    {
      "cell_type": "code",
      "source": [
        "test_files ="
      ],
      "metadata": {
        "id": "lTnB4Epomg4m"
      },
      "execution_count": null,
      "outputs": []
    },
    {
      "cell_type": "code",
      "source": [
        "test_dataset = Test_AudioDataset(file_paths=test_files, min_val=min_val, max_val=max_val)\n",
        "\n",
        "\n",
        "# DataLoader 설정\n",
        "batch_size = 4  # 필요에 따라 배치 크기 조정\n",
        "shuffle = False  # 테스트 데이터셋에서는 일반적으로 셔플을 사용하지 않음\n",
        "\n",
        "test_loader = DataLoader(test_dataset, batch_size=batch_size, shuffle=shuffle)"
      ],
      "metadata": {
        "id": "HZ0Qmy-1mIBF"
      },
      "execution_count": null,
      "outputs": []
    },
    {
      "cell_type": "code",
      "source": [
        "import torch\n",
        "import numpy as np\n",
        "from sklearn.metrics import roc_auc_score, precision_recall_fscore_support\n",
        "from sklearn.metrics import precision_recall_curve, auc\n",
        "\n",
        "# # machine_id별로 val_loss_mean, val_loss_std 계산 (예시)\n",
        "\n",
        "# machine_id_loss_stats = {'machine_id_00':(0.0085482866316120,0.008348092202628627),\n",
        "#                          'machine_id_02':( 0.003994531273333864, 0.002180829094738874),\n",
        "#                          'machine_id_04':(0.010217101823932885,0.02718568618950082 ),\n",
        "#                          'machine_id_06':(0.00644324429200164,0.007013215145511093 )}\n",
        "\n",
        "# # 임계값 계산 로직을 machine_id별로 처리\n",
        "# def calculate_thresholds(machine_id_loss_stats):\n",
        "#     thresholds = {}\n",
        "#     for machine_id, stats in machine_id_loss_stats.items():\n",
        "#         val_loss_mean, val_loss_std = stats\n",
        "#         thresholds[machine_id] = val_loss_mean + 3 * val_loss_std\n",
        "#     return thresholds\n",
        "\n",
        "\n",
        "\n",
        "from sklearn.metrics import roc_curve, auc\n",
        "\n",
        "def calculate_pauc(y_true, y_scores, max_fpr):\n",
        "    \"\"\"\n",
        "    pAUC를 계산하는 함수입니다.\n",
        "    :param y_true: 실제 라벨의 리스트\n",
        "    :param y_scores: 모델이 예측한 점수의 리스트\n",
        "    :param max_fpr: 계산할 최대 FPR 값\n",
        "    :return: pAUC 값\n",
        "    \"\"\"\n",
        "    fpr, tpr, _ = roc_curve(y_true, y_scores)\n",
        "    stop_index = np.where(fpr <= max_fpr)[0][-1]\n",
        "    pAUC = auc(fpr[:stop_index + 1], tpr[:stop_index + 1])\n",
        "    return pAUC\n",
        "\n",
        "\n",
        "# 성능 평가 함수\n",
        "def evaluate_model(model, loader, thresholds):\n",
        "    results = {machine_id: {'y_true': [], 'y_scores': [], 'y_pred': []} for machine_id in thresholds.keys()}\n",
        "\n",
        "    with torch.no_grad():\n",
        "        for data in loader:\n",
        "            mixed_x, label, machine_ids = data\n",
        "            mixed_x = mixed_x.to(device)  # 전체 배치를 한 번에 장치로 이동\n",
        "\n",
        "            for i in range(len(mixed_x)):\n",
        "                single_x = mixed_x[i]\n",
        "                if single_x.dim() == 2:\n",
        "                    single_x = single_x.unsqueeze(0).unsqueeze(0)\n",
        "                single_x = single_x.to(device)\n",
        "                # print(\"mixed_x의 모양:\", mixed_x.shape)\n",
        "\n",
        "                  # 배치 차원 추가\n",
        "                single_label = label[i]\n",
        "                machine_id = machine_ids[i]\n",
        "                # print(f\"Current machine_id: {machine_id}\")  # 디버그 출력\n",
        "                threshold = thresholds[machine_id]\n",
        "\n",
        "                output = model(single_x)\n",
        "                loss = torch.nn.functional.mse_loss(output, single_x, reduction='none')\n",
        "                loss = loss.mean().item()  # 항목으로 변환\n",
        "\n",
        "                results[machine_id]['y_true'].append(single_label.cpu().item())\n",
        "                results[machine_id]['y_scores'].append(loss)\n",
        "                results[machine_id]['y_pred'].append(1 if loss > threshold else 0)\n",
        "\n",
        "    # 각 machine_id별로 성능 지표 계산\n",
        "    machine_id_metrics = {}\n",
        "    for machine_id, data in results.items():\n",
        "        if len(data['y_true']) > 0 and len(data['y_pred']) > 0:  # 데이터가 있는 경우에만 계산\n",
        "            precision, recall, f1, _ = precision_recall_fscore_support(\n",
        "                data['y_true'], data['y_pred'], average='binary', zero_division=1)\n",
        "            auc_score = roc_auc_score(data['y_true'], data['y_scores'])\n",
        "            max_fpr_value = 0.1  # 원하는 최대 FPR 값 설정\n",
        "            pauc = calculate_pauc(data['y_true'], data['y_scores'], max_fpr_value)\n",
        "\n",
        "            # print(\"Calculated pAUC:\", pauc)\n",
        "\n",
        "            machine_id_metrics[machine_id] = {\n",
        "            'Precision': precision,\n",
        "            'Recall': recall,\n",
        "            'F1 Score': f1,\n",
        "            'AUC': auc_score,\n",
        "            'pAUC': pauc  # 추가된 부분\n",
        "        }\n",
        "        else:\n",
        "            print(f\"No data for machine ID {machine_id}. Skipping...\")\n",
        "            machine_id_metrics[machine_id] = {\n",
        "                'Precision': None, 'Recall': None, 'F1 Score': None, 'AUC': None\n",
        "            }\n",
        "\n",
        "    return machine_id_metrics"
      ],
      "metadata": {
        "id": "95G4roP-rGcx"
      },
      "execution_count": null,
      "outputs": []
    },
    {
      "cell_type": "code",
      "source": [
        "from glob import glob"
      ],
      "metadata": {
        "id": "JvYPgbw7sWGE"
      },
      "execution_count": null,
      "outputs": []
    },
    {
      "cell_type": "code",
      "source": [
        "test_files = sorted(glob(\"/content/drive/MyDrive/Capstone_Project/DCASE_challenge/fan/test/*.wav\"))"
      ],
      "metadata": {
        "id": "B6dzmblTtls6"
      },
      "execution_count": null,
      "outputs": []
    },
    {
      "cell_type": "code",
      "source": [
        "test_dataset = Test_AudioDataset(file_paths=test_files, min_val=min_val, max_val=max_val)\n",
        "\n",
        "\n",
        "# DataLoader 설정\n",
        "batch_size = 4  # 필요에 따라 배치 크기 조정\n",
        "shuffle = False  # 테스트 데이터셋에서는 일반적으로 셔플을 사용하지 않음\n",
        "\n",
        "test_loader = DataLoader(test_dataset, batch_size=batch_size, shuffle=shuffle)"
      ],
      "metadata": {
        "id": "pt-JCmfgsvq2"
      },
      "execution_count": null,
      "outputs": []
    },
    {
      "cell_type": "code",
      "source": [
        "thresholds"
      ],
      "metadata": {
        "colab": {
          "base_uri": "https://localhost:8080/"
        },
        "id": "N5j0WnsFuTF6",
        "outputId": "1a6f52fc-b496-4d3c-b813-8974b06a3681"
      },
      "execution_count": null,
      "outputs": [
        {
          "output_type": "execute_result",
          "data": {
            "text/plain": [
              "{'machine_id_00': 0.025244471036869255,\n",
              " 'machine_id_02': 0.008356189462811612,\n",
              " 'machine_id_04': 0.06458847420293452,\n",
              " 'machine_id_06': 0.020469674583023827}"
            ]
          },
          "metadata": {},
          "execution_count": 70
        }
      ]
    },
    {
      "cell_type": "code",
      "source": [
        "class Test_AudioDataset(Dataset):\n",
        "    def __init__(self, file_paths, min_val=min_val, max_val=max_val, alpha=1.0, is_test=True):\n",
        "        self.file_paths = file_paths\n",
        "        self.min_val = min_val\n",
        "        self.max_val = max_val\n",
        "        self.alpha = alpha\n",
        "        self.is_test = is_test  # 테스트 데이터셋인지 여부\n",
        "\n",
        "        # min_val과 max_val이 제공되지 않았을 경우, 전체 데이터셋에서 계산\n",
        "        # if self.min_val is None or self.max_val is None:\n",
        "        #     self.min_val, self.max_val = self.calculate_min_max_values()\n",
        "\n",
        "\n",
        "    def __len__(self):\n",
        "        return len(self.file_paths)\n",
        "\n",
        "    def __getitem__(self, idx):\n",
        "        file_path = self.file_paths[idx]\n",
        "        x = self.process_file(file_path)\n",
        "\n",
        "        if self.is_test:\n",
        "          id = file_path.split('/')[-1].split('_')[2]\n",
        "          machine_id = f'machine_id_{id}'\n",
        "        else:\n",
        "          machine_id = file_path.split('/')[-3]\n",
        "\n",
        "        # 테스트 데이터셋인 경우에만 라벨을 생성\n",
        "        if self.is_test:\n",
        "          label = 1 if 'anomaly' in file_path.split('/')[-1].split('_')[0] else 0\n",
        "          return x, label, machine_id\n",
        "        else:\n",
        "          return x, machine_id\n",
        "\n",
        "\n",
        "        # if self.is_test:\n",
        "        #     label = 1 if 'anomaly' in file_path.split('/')[-1].split('_')[0] else 0\n",
        "        #     return x, label\n",
        "        # else:\n",
        "        #     return x\n",
        "\n",
        "    def process_file(self, file_path):\n",
        "        # 오디오 파일 로드 및 스펙트로그램 생성\n",
        "        y, sr = librosa.load(file_path, sr=None)\n",
        "        S = librosa.feature.melspectrogram(y=y, sr=sr, n_mels=128)\n",
        "        log_S = librosa.power_to_db(S, ref=np.max)\n",
        "\n",
        "        # 정규화\n",
        "        normalized_log_S = (log_S - self.min_val) / (self.max_val - self.min_val)\n",
        "\n",
        "        # PyTorch Tensor로 변환\n",
        "        normalized_log_S_tensor = torch.tensor(normalized_log_S, dtype=torch.float32)\n",
        "        return normalized_log_S_tensor\n",
        "\n",
        "\n"
      ],
      "metadata": {
        "id": "cJx13OZYuixC"
      },
      "execution_count": null,
      "outputs": []
    },
    {
      "cell_type": "code",
      "source": [
        "test_files[0].split('/')[-1].split('_')[2]"
      ],
      "metadata": {
        "colab": {
          "base_uri": "https://localhost:8080/",
          "height": 35
        },
        "id": "XuDI9PRGu1Pb",
        "outputId": "dba9d6f3-3be7-4040-a18c-83ab127e4c51"
      },
      "execution_count": null,
      "outputs": [
        {
          "output_type": "execute_result",
          "data": {
            "text/plain": [
              "'00'"
            ],
            "application/vnd.google.colaboratory.intrinsic+json": {
              "type": "string"
            }
          },
          "metadata": {},
          "execution_count": 72
        }
      ]
    },
    {
      "cell_type": "code",
      "source": [
        "thresholds"
      ],
      "metadata": {
        "colab": {
          "base_uri": "https://localhost:8080/"
        },
        "id": "PINkcZy4vVB6",
        "outputId": "3d4c1dab-4548-4516-de61-dede480291af"
      },
      "execution_count": null,
      "outputs": [
        {
          "output_type": "execute_result",
          "data": {
            "text/plain": [
              "{'machine_id_00': 0.025244471036869255,\n",
              " 'machine_id_02': 0.008356189462811612,\n",
              " 'machine_id_04': 0.06458847420293452,\n",
              " 'machine_id_06': 0.020469674583023827}"
            ]
          },
          "metadata": {},
          "execution_count": 73
        }
      ]
    },
    {
      "cell_type": "code",
      "source": [
        "machine_ids = ['machine_id_00', 'machine_id_02', 'machine_id_04', 'machine_id_06']\n",
        "\n",
        "for machine_id in machine_ids:\n",
        "    # 모델 인스턴스 생성 및 파라미터 로드\n",
        "    model = Autoencoder()\n",
        "    model_path = f'/content/drive/My Drive/Capstone_Project/DCASE_challenge/fan/model_{machine_id}.pt'\n",
        "    print(model_path)\n",
        "    model.load_state_dict(torch.load(model_path))\n",
        "    model.to(device)\n",
        "    model.eval()\n",
        "\n",
        "    machine_id_metrics = evaluate_model(model, test_loader, thresholds)\n",
        "    for machine_id, metrics in machine_id_metrics.items():\n",
        "        print(f\"Machine ID: {machine_id}, Metrics: {metrics}\")\n",
        "\n",
        "    print('='*50)"
      ],
      "metadata": {
        "colab": {
          "base_uri": "https://localhost:8080/"
        },
        "id": "w2FbLsWtsNsR",
        "outputId": "0af0214c-7e42-4e5a-e162-9e6603f49a82"
      },
      "execution_count": null,
      "outputs": [
        {
          "output_type": "stream",
          "name": "stdout",
          "text": [
            "/content/drive/My Drive/Capstone_Project/DCASE_challenge/fan/model_machine_id_00.pt\n",
            "Machine ID: machine_id_00, Metrics: {'Precision': 1.0, 'Recall': 0.0, 'F1 Score': 0.0, 'AUC': 0.482014742014742, 'pAUC': 0.004324324324324325}\n",
            "Machine ID: machine_id_02, Metrics: {'Precision': 0.8285714285714286, 'Recall': 0.24233983286908078, 'F1 Score': 0.375, 'AUC': 0.5145682451253482, 'pAUC': 0.0083008356545961}\n",
            "Machine ID: machine_id_04, Metrics: {'Precision': 1.0, 'Recall': 0.0, 'F1 Score': 0.0, 'AUC': 0.5176724137931035, 'pAUC': 0.0017241379310344832}\n",
            "Machine ID: machine_id_06, Metrics: {'Precision': 1.0, 'Recall': 0.0, 'F1 Score': 0.0, 'AUC': 0.5884764542936288, 'pAUC': 0.0037119113573407204}\n",
            "==================================================\n",
            "/content/drive/My Drive/Capstone_Project/DCASE_challenge/fan/model_machine_id_02.pt\n",
            "Machine ID: machine_id_00, Metrics: {'Precision': 1.0, 'Recall': 0.0, 'F1 Score': 0.0, 'AUC': 0.5452088452088452, 'pAUC': 0.005380835380835381}\n",
            "Machine ID: machine_id_02, Metrics: {'Precision': 1.0, 'Recall': 0.0, 'F1 Score': 0.0, 'AUC': 0.46902506963788304, 'pAUC': 0.007576601671309192}\n",
            "Machine ID: machine_id_04, Metrics: {'Precision': 1.0, 'Recall': 0.0, 'F1 Score': 0.0, 'AUC': 0.514080459770115, 'pAUC': 0.005344827586206896}\n",
            "Machine ID: machine_id_06, Metrics: {'Precision': 1.0, 'Recall': 0.0, 'F1 Score': 0.0, 'AUC': 0.5048476454293629, 'pAUC': 0.00734072022160665}\n",
            "==================================================\n",
            "/content/drive/My Drive/Capstone_Project/DCASE_challenge/fan/model_machine_id_04.pt\n",
            "Machine ID: machine_id_00, Metrics: {'Precision': 1.0, 'Recall': 0.0, 'F1 Score': 0.0, 'AUC': 0.5545208845208845, 'pAUC': 0.0038574938574938576}\n",
            "Machine ID: machine_id_02, Metrics: {'Precision': 1.0, 'Recall': 0.0, 'F1 Score': 0.0, 'AUC': 0.4755710306406685, 'pAUC': 0.009052924791086353}\n",
            "Machine ID: machine_id_04, Metrics: {'Precision': 1.0, 'Recall': 0.0, 'F1 Score': 0.0, 'AUC': 0.4860632183908046, 'pAUC': 0.0047126436781609205}\n",
            "Machine ID: machine_id_06, Metrics: {'Precision': 1.0, 'Recall': 0.0, 'F1 Score': 0.0, 'AUC': 0.5241274238227147, 'pAUC': 0.010747922437673132}\n",
            "==================================================\n",
            "/content/drive/My Drive/Capstone_Project/DCASE_challenge/fan/model_machine_id_06.pt\n",
            "Machine ID: machine_id_00, Metrics: {'Precision': 1.0, 'Recall': 0.0, 'F1 Score': 0.0, 'AUC': 0.45528255528255535, 'pAUC': 0.005528255528255529}\n",
            "Machine ID: machine_id_02, Metrics: {'Precision': 0.7853260869565217, 'Recall': 0.8050139275766016, 'F1 Score': 0.795048143053645, 'AUC': 0.5188857938718663, 'pAUC': 0.009944289693593315}\n",
            "Machine ID: machine_id_04, Metrics: {'Precision': 1.0, 'Recall': 0.0, 'F1 Score': 0.0, 'AUC': 0.6138505747126437, 'pAUC': 0.006522988505747127}\n",
            "Machine ID: machine_id_06, Metrics: {'Precision': 0.7272727272727273, 'Recall': 0.0221606648199446, 'F1 Score': 0.043010752688172046, 'AUC': 0.48063711911357343, 'pAUC': 0.003407202216066482}\n",
            "==================================================\n"
          ]
        }
      ]
    },
    {
      "cell_type": "code",
      "source": [],
      "metadata": {
        "id": "5GxmI-VTsPe1"
      },
      "execution_count": null,
      "outputs": []
    },
    {
      "cell_type": "code",
      "source": [
        "machine_id_metrics = evaluate_model(model, test_loader, thresholds)\n",
        "for machine_id, metrics in machine_id_metrics.items():\n",
        "    print(f\"Machine ID: {machine_id}, Metrics: {metrics}\")"
      ],
      "metadata": {
        "id": "fgK89nBxrllU"
      },
      "execution_count": null,
      "outputs": []
    },
    {
      "cell_type": "code",
      "source": [
        "import torch\n",
        "import numpy as np\n",
        "from sklearn.metrics import roc_auc_score, precision_recall_fscore_support\n",
        "from sklearn.metrics import precision_recall_curve, auc\n",
        "\n",
        "# # machine_id별로 val_loss_mean, val_loss_std 계산 (예시)\n",
        "\n",
        "# machine_id_loss_stats = {'machine_id_00':(0.0085482866316120,0.008348092202628627),\n",
        "#                          'machine_id_02':( 0.003994531273333864, 0.002180829094738874),\n",
        "#                          'machine_id_04':(0.010217101823932885,0.02718568618950082 ),\n",
        "#                          'machine_id_06':(0.00644324429200164,0.007013215145511093 )}\n",
        "\n",
        "# # 임계값 계산 로직을 machine_id별로 처리\n",
        "# def calculate_thresholds(machine_id_loss_stats):\n",
        "#     thresholds = {}\n",
        "#     for machine_id, stats in machine_id_loss_stats.items():\n",
        "#         val_loss_mean, val_loss_std = stats\n",
        "#         thresholds[machine_id] = val_loss_mean + 3 * val_loss_std\n",
        "#     return thresholds\n",
        "\n",
        "\n",
        "\n",
        "def calculate_prauc(y_true, y_scores):\n",
        "    \"\"\"\n",
        "    PR AUC를 계산하는 함수입니다.\n",
        "    :param y_true: 실제 라벨의 리스트\n",
        "    :param y_scores: 모델이 예측한 점수의 리스트\n",
        "    :return: PR AUC 값\n",
        "    \"\"\"\n",
        "    precision, recall, _ = precision_recall_curve(y_true, y_scores)\n",
        "    pr_auc = auc(recall, precision)\n",
        "    return pr_auc\n",
        "\n",
        "\n",
        "\n",
        "# 성능 평가 함수\n",
        "def evaluate_model(model_list, loader, thresholds):\n",
        "    results = {machine_id: {'y_true': [], 'y_scores': [], 'y_pred': []} for machine_id in thresholds.keys()}\n",
        "\n",
        "\n",
        "    for model_path in model_list:\n",
        "      model = Autoencoder()\n",
        "      model.load_state_dict(torch.load(model_path))\n",
        "\n",
        "      with torch.no_grad():\n",
        "          for data in loader:\n",
        "              mixed_x, label, machine_ids = data\n",
        "              mixed_x = mixed_x.to(device)  # 전체 배치를 한 번에 장치로 이동\n",
        "\n",
        "              for i in range(len(mixed_x)):\n",
        "                  single_x = mixed_x[i]\n",
        "                  if single_x.dim() == 2:\n",
        "                      single_x = single_x.unsqueeze(0).unsqueeze(0)\n",
        "                  single_x = single_x.to(device)\n",
        "                  # print(\"mixed_x의 모양:\", mixed_x.shape)\n",
        "\n",
        "                    # 배치 차원 추가\n",
        "                  single_label = label[i]\n",
        "                  machine_id = machine_ids[i]\n",
        "                  # print(f\"Current machine_id: {machine_id}\")  # 디버그 출력\n",
        "                  threshold = thresholds[machine_id]\n",
        "\n",
        "                  output = model(single_x)\n",
        "                  loss = torch.nn.functional.mse_loss(output, single_x, reduction='none')\n",
        "                  loss = loss.mean().item()  # 항목으로 변환\n",
        "\n",
        "                  results[machine_id]['y_true'].append(single_label.cpu().item())\n",
        "                  results[machine_id]['y_scores'].append(loss)\n",
        "                  results[machine_id]['y_pred'].append(1 if loss > threshold else 0)\n",
        "\n",
        "      # 각 machine_id별로 성능 지표 계산\n",
        "      machine_id_metrics = {}\n",
        "      for machine_id, data in results.items():\n",
        "          if len(data['y_true']) > 0 and len(data['y_pred']) > 0:  # 데이터가 있는 경우에만 계산\n",
        "              precision, recall, f1, _ = precision_recall_fscore_support(\n",
        "                  data['y_true'], data['y_pred'], average='binary', zero_division=1)\n",
        "              auc_score = roc_auc_score(data['y_true'], data['y_scores'])\n",
        "              pr_auc = calculate_prauc(data['y_true'], data['y_scores'])\n",
        "\n",
        "              machine_id_metrics[machine_id] = {\n",
        "              'Precision': precision,\n",
        "              'Recall': recall,\n",
        "              'F1 Score': f1,\n",
        "              'AUC': auc_score,\n",
        "              'PR AUC': pr_auc  # 추가된 부분\n",
        "          }\n",
        "          else:\n",
        "              print(f\"No data for machine ID {machine_id}. Skipping...\")\n",
        "              machine_id_metrics[machine_id] = {\n",
        "                  'Precision': None, 'Recall': None, 'F1 Score': None, 'AUC': None\n",
        "              }\n",
        "\n",
        "      return machine_id_metrics\n",
        "\n",
        "# 성능 평가 및 결과 출력\n",
        "\n",
        "machine_id_metrics = evaluate_model(model, test_loader, thresholds)\n",
        "for machine_id, metrics in machine_id_metrics.items():\n",
        "    print(f\"Machine ID: {machine_id}, Metrics: {metrics}\")\n"
      ],
      "metadata": {
        "id": "BTrccTNalr55"
      },
      "execution_count": null,
      "outputs": []
    },
    {
      "cell_type": "markdown",
      "source": [
        "3시그마\n",
        "\n",
        "Machine ID: machine_id_00, Metrics: {'Precision': 1.0, 'Recall': 0.0, 'F1 Score': 0.0, 'AUC': 0.5325, 'PR AUC': 0.1880434935213059}\n",
        "Machine ID: machine_id_02, Metrics: {'Precision': 0.36363636363636365, 'Recall': 0.2, 'F1 Score': 0.25806451612903225, 'AUC': 0.649, 'PR AUC': 0.3348459439074656}\n",
        "Machine ID: machine_id_04, Metrics: {'Precision': 1.0, 'Recall': 0.0, 'F1 Score': 0.0, 'AUC': 0.48749999999999993, 'PR AUC': 0.15656991735528286}\n",
        "Machine ID: machine_id_06, Metrics: {'Precision': 1.0, 'Recall': 0.0, 'F1 Score': 0.0, 'AUC': 0.611, 'PR AUC': 0.19733780475926774}"
      ],
      "metadata": {
        "id": "YXfJc2sD98fJ"
      }
    },
    {
      "cell_type": "code",
      "source": [],
      "metadata": {
        "id": "Pe75_tdt-H8C"
      },
      "execution_count": null,
      "outputs": []
    }
  ]
}